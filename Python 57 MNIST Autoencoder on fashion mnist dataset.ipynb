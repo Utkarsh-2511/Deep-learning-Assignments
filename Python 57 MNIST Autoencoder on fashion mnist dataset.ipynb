{
 "cells": [
  {
   "cell_type": "code",
   "execution_count": 11,
   "metadata": {},
   "outputs": [],
   "source": [
    "import tensorflow as tf\n",
    "import numpy as np\n",
    "import keras"
   ]
  },
  {
   "cell_type": "code",
   "execution_count": 12,
   "metadata": {},
   "outputs": [],
   "source": [
    "from keras import layers"
   ]
  },
  {
   "cell_type": "code",
   "execution_count": 13,
   "metadata": {},
   "outputs": [],
   "source": [
    "mnist = tf.keras.datasets.fashion_mnist"
   ]
  },
  {
   "cell_type": "code",
   "execution_count": 14,
   "metadata": {},
   "outputs": [],
   "source": [
    "from keras.utils import to_categorical\n"
   ]
  },
  {
   "cell_type": "code",
   "execution_count": 15,
   "metadata": {},
   "outputs": [],
   "source": [
    "(training_images, training_labels), (test_images, test_labels) = mnist.load_data()\n",
    "train_Y_one_hot = to_categorical(training_labels)\n",
    "test_Y_one_hot = to_categorical(test_labels)\n",
    "training_images=training_images / 255.0\n",
    "test_images=test_images / 255.0"
   ]
  },
  {
   "cell_type": "code",
   "execution_count": 16,
   "metadata": {},
   "outputs": [
    {
     "data": {
      "text/plain": [
       "<matplotlib.image.AxesImage at 0x1f934991848>"
      ]
     },
     "execution_count": 16,
     "metadata": {},
     "output_type": "execute_result"
    },
    {
     "data": {
      "image/png": "[encoded data removed]",
      "text/plain": [
       "<Figure size 432x288 with 1 Axes>"
      ]
     },
     "metadata": {
      "needs_background": "light"
     },
     "output_type": "display_data"
    }
   ],
   "source": [
    "import matplotlib.pyplot as plt\n",
    "plt.imshow(training_images[0])\n"
   ]
  },
  {
   "cell_type": "code",
   "execution_count": 17,
   "metadata": {},
   "outputs": [
    {
     "data": {
      "text/plain": [
       "((60000, 784), (10000, 784))"
      ]
     },
     "execution_count": 17,
     "metadata": {},
     "output_type": "execute_result"
    }
   ],
   "source": [
    "#changing the image shape to fit in neural network\n",
    "training_images = training_images.reshape((len(training_images), np.prod(training_images.shape[1:])))\n",
    "test_images = test_images.reshape((len(test_images), np.prod(test_images.shape[1:])))\n",
    "training_images.shape, test_images.shape\n",
    "\n",
    "\n"
   ]
  },
  {
   "cell_type": "code",
   "execution_count": 18,
   "metadata": {},
   "outputs": [
    {
     "data": {
      "text/plain": [
       "(1.0, 1.0)"
      ]
     },
     "execution_count": 18,
     "metadata": {},
     "output_type": "execute_result"
    }
   ],
   "source": [
    "#Checking images for normalization\n",
    "np.max(training_images), np.max(test_images)"
   ]
  },
  {
   "cell_type": "code",
   "execution_count": 26,
   "metadata": {},
   "outputs": [
    {
     "name": "stdout",
     "output_type": "stream",
     "text": [
      "Model: \"model_10\"\n",
      "_________________________________________________________________\n",
      "Layer (type)                 Output Shape              Param #   \n",
      "=================================================================\n",
      "input_8 (InputLayer)         (None, 784)               0         \n",
      "_________________________________________________________________\n",
      "dense_8 (Dense)              (None, 32)                25120     \n",
      "_________________________________________________________________\n",
      "dense_9 (Dense)              (None, 784)               25872     \n",
      "=================================================================\n",
      "Total params: 50,992\n",
      "Trainable params: 50,992\n",
      "Non-trainable params: 0\n",
      "_________________________________________________________________\n"
     ]
    }
   ],
   "source": [
    "batch_size = 64\n",
    "encoding_dim=32\n",
    "input_img = keras.Input(shape=(784,))\n",
    "encoded = layers.Dense(encoding_dim, activation='relu')(input_img)\n",
    "decoded = layers.Dense(784, activation='sigmoid')(encoded)\n",
    "autoencoder = keras.Model(input_img, decoded)\n",
    "encoder = keras.Model(input_img, encoded)\n",
    "encoded_input = keras.Input(shape=(encoding_dim,))\n",
    "decoder_layer = autoencoder.layers[-1]\n",
    "\n",
    "decoder = keras.Model(encoded_input, decoder_layer(encoded_input))\n",
    "\n",
    "autoencoder.compile(optimizer='adam', loss='binary_crossentropy')\n",
    "autoencoder.summary()\n"
   ]
  },
  {
   "cell_type": "code",
   "execution_count": 38,
   "metadata": {},
   "outputs": [
    {
     "name": "stdout",
     "output_type": "stream",
     "text": [
      "Train on 60000 samples, validate on 10000 samples\n",
      "Epoch 1/50\n",
      "60000/60000 [==============================] - 5s 88us/step - loss: 0.3485 - val_loss: 0.3083\n",
      "Epoch 2/50\n",
      "60000/60000 [==============================] - 5s 82us/step - loss: 0.2970 - val_loss: 0.2932\n",
      "Epoch 3/50\n",
      "60000/60000 [==============================] - 5s 84us/step - loss: 0.2888 - val_loss: 0.2891\n",
      "Epoch 4/50\n",
      "60000/60000 [==============================] - 5s 82us/step - loss: 0.2860 - val_loss: 0.2876\n",
      "Epoch 5/50\n",
      "60000/60000 [==============================] - 5s 82us/step - loss: 0.2847 - val_loss: 0.2864\n",
      "Epoch 6/50\n",
      "60000/60000 [==============================] - 5s 82us/step - loss: 0.2839 - val_loss: 0.2860\n",
      "Epoch 7/50\n",
      "60000/60000 [==============================] - 5s 82us/step - loss: 0.2834 - val_loss: 0.2855\n",
      "Epoch 8/50\n",
      "60000/60000 [==============================] - 5s 87us/step - loss: 0.2830 - val_loss: 0.2851\n",
      "Epoch 9/50\n",
      "60000/60000 [==============================] - 5s 87us/step - loss: 0.2828 - val_loss: 0.2848\n",
      "Epoch 10/50\n",
      "60000/60000 [==============================] - 5s 87us/step - loss: 0.2826 - val_loss: 0.2847\n",
      "Epoch 11/50\n",
      "60000/60000 [==============================] - 5s 87us/step - loss: 0.2824 - val_loss: 0.2846\n",
      "Epoch 12/50\n",
      "60000/60000 [==============================] - 5s 88us/step - loss: 0.2822 - val_loss: 0.2844\n",
      "Epoch 13/50\n",
      "60000/60000 [==============================] - 5s 85us/step - loss: 0.2821 - val_loss: 0.2842\n",
      "Epoch 14/50\n",
      "60000/60000 [==============================] - 5s 85us/step - loss: 0.2820 - val_loss: 0.2844\n",
      "Epoch 15/50\n",
      "60000/60000 [==============================] - 5s 85us/step - loss: 0.2819 - val_loss: 0.2841\n",
      "Epoch 16/50\n",
      "60000/60000 [==============================] - 5s 91us/step - loss: 0.2818 - val_loss: 0.2841\n",
      "Epoch 17/50\n",
      "60000/60000 [==============================] - 5s 85us/step - loss: 0.2817 - val_loss: 0.2840\n",
      "Epoch 18/50\n",
      "60000/60000 [==============================] - 5s 85us/step - loss: 0.2817 - val_loss: 0.2842\n",
      "Epoch 19/50\n",
      "60000/60000 [==============================] - 5s 85us/step - loss: 0.2816 - val_loss: 0.2838\n",
      "Epoch 20/50\n",
      "60000/60000 [==============================] - 5s 85us/step - loss: 0.2816 - val_loss: 0.2838\n",
      "Epoch 21/50\n",
      "60000/60000 [==============================] - 5s 88us/step - loss: 0.2815 - val_loss: 0.2839\n",
      "Epoch 22/50\n",
      "60000/60000 [==============================] - 5s 86us/step - loss: 0.2815 - val_loss: 0.2840\n",
      "Epoch 23/50\n",
      "60000/60000 [==============================] - 5s 90us/step - loss: 0.2814 - val_loss: 0.2837\n",
      "Epoch 24/50\n",
      "60000/60000 [==============================] - 5s 89us/step - loss: 0.2814 - val_loss: 0.2837\n",
      "Epoch 25/50\n",
      "60000/60000 [==============================] - 5s 88us/step - loss: 0.2814 - val_loss: 0.2837\n",
      "Epoch 26/50\n",
      "60000/60000 [==============================] - 6s 92us/step - loss: 0.2813 - val_loss: 0.2838\n",
      "Epoch 27/50\n",
      "60000/60000 [==============================] - 5s 84us/step - loss: 0.2813 - val_loss: 0.2836\n",
      "Epoch 28/50\n",
      "60000/60000 [==============================] - 5s 88us/step - loss: 0.2813 - val_loss: 0.2837\n",
      "Epoch 29/50\n",
      "60000/60000 [==============================] - 5s 82us/step - loss: 0.2813 - val_loss: 0.2837\n",
      "Epoch 30/50\n",
      "60000/60000 [==============================] - 5s 89us/step - loss: 0.2812 - val_loss: 0.2836\n",
      "Epoch 31/50\n",
      "60000/60000 [==============================] - 6s 103us/step - loss: 0.2812 - val_loss: 0.2836\n",
      "Epoch 32/50\n",
      "60000/60000 [==============================] - 5s 84us/step - loss: 0.2812 - val_loss: 0.2836\n",
      "Epoch 33/50\n",
      "60000/60000 [==============================] - 5s 85us/step - loss: 0.2812 - val_loss: 0.2836\n",
      "Epoch 34/50\n",
      "60000/60000 [==============================] - 5s 84us/step - loss: 0.2812 - val_loss: 0.2835\n",
      "Epoch 35/50\n",
      "60000/60000 [==============================] - 5s 83us/step - loss: 0.2811 - val_loss: 0.2837\n",
      "Epoch 36/50\n",
      "60000/60000 [==============================] - 5s 83us/step - loss: 0.2811 - val_loss: 0.2835\n",
      "Epoch 37/50\n",
      "60000/60000 [==============================] - 5s 86us/step - loss: 0.2811 - val_loss: 0.2835\n",
      "Epoch 38/50\n",
      "60000/60000 [==============================] - 5s 85us/step - loss: 0.2811 - val_loss: 0.2835\n",
      "Epoch 39/50\n",
      "60000/60000 [==============================] - 5s 84us/step - loss: 0.2811 - val_loss: 0.2837\n",
      "Epoch 40/50\n",
      "60000/60000 [==============================] - 5s 83us/step - loss: 0.2811 - val_loss: 0.2836\n",
      "Epoch 41/50\n",
      "60000/60000 [==============================] - 5s 83us/step - loss: 0.2811 - val_loss: 0.2835\n",
      "Epoch 42/50\n",
      "60000/60000 [==============================] - 5s 83us/step - loss: 0.2811 - val_loss: 0.2836\n",
      "Epoch 43/50\n",
      "60000/60000 [==============================] - 5s 83us/step - loss: 0.2811 - val_loss: 0.2836\n",
      "Epoch 44/50\n",
      "60000/60000 [==============================] - 5s 84us/step - loss: 0.2810 - val_loss: 0.2835\n",
      "Epoch 45/50\n",
      "60000/60000 [==============================] - 5s 84us/step - loss: 0.2810 - val_loss: 0.2835\n",
      "Epoch 46/50\n",
      "60000/60000 [==============================] - 5s 83us/step - loss: 0.2810 - val_loss: 0.2835\n",
      "Epoch 47/50\n",
      "60000/60000 [==============================] - 5s 83us/step - loss: 0.2810 - val_loss: 0.2834\n",
      "Epoch 48/50\n",
      "60000/60000 [==============================] - 5s 84us/step - loss: 0.2810 - val_loss: 0.2836\n",
      "Epoch 49/50\n",
      "60000/60000 [==============================] - 5s 84us/step - loss: 0.2810 - val_loss: 0.2836\n",
      "Epoch 50/50\n",
      "60000/60000 [==============================] - 5s 87us/step - loss: 0.2810 - val_loss: 0.2834\n"
     ]
    },
    {
     "data": {
      "text/plain": [
       "<keras.callbacks.callbacks.History at 0x1f937cabc88>"
      ]
     },
     "execution_count": 38,
     "metadata": {},
     "output_type": "execute_result"
    }
   ],
   "source": [
    "autoencoder.fit(training_images,training_images,\n",
    "                epochs=50,\n",
    "                batch_size=64,validation_data=(test_images,test_images))"
   ]
  },
  {
   "cell_type": "code",
   "execution_count": 39,
   "metadata": {},
   "outputs": [],
   "source": [
    "encoded_imgs = encoder.predict(test_images)\n",
    "decoded_imgs = decoder.predict(encoded_imgs)\n"
   ]
  },
  {
   "cell_type": "code",
   "execution_count": 40,
   "metadata": {},
   "outputs": [
    {
     "data": {
      "image/png": "[encoded data removed]",
      "text/plain": [
       "<Figure size 1440x288 with 20 Axes>"
      ]
     },
     "metadata": {
      "needs_background": "light"
     },
     "output_type": "display_data"
    }
   ],
   "source": [
    "import matplotlib.pyplot as plt\n",
    "\n",
    "n = 10  # How many digits we will display\n",
    "plt.figure(figsize=(20, 4))\n",
    "for i in range(n):\n",
    "    # Display original\n",
    "    ax = plt.subplot(2, n, i + 1)\n",
    "    plt.imshow(test_images[i].reshape(28, 28))\n",
    "    plt.gray()\n",
    "    ax.get_xaxis().set_visible(False)\n",
    "    ax.get_yaxis().set_visible(False)\n",
    "\n",
    "    # Display reconstruction\n",
    "    ax = plt.subplot(2, n, i + 1 + n)\n",
    "    plt.imshow(decoded_imgs[i].reshape(28, 28))\n",
    "    plt.gray()\n",
    "    ax.get_xaxis().set_visible(False)\n",
    "    ax.get_yaxis().set_visible(False)\n",
    "plt.show()"
   ]
  },
  {
   "cell_type": "code",
   "execution_count": null,
   "metadata": {},
   "outputs": [],
   "source": []
  },
  {
   "cell_type": "code",
   "execution_count": null,
   "metadata": {},
   "outputs": [],
   "source": []
  },
  {
   "cell_type": "code",
   "execution_count": null,
   "metadata": {},
   "outputs": [],
   "source": []
  },
  {
   "cell_type": "code",
   "execution_count": null,
   "metadata": {},
   "outputs": [],
   "source": []
  },
  {
   "cell_type": "code",
   "execution_count": null,
   "metadata": {},
   "outputs": [],
   "source": []
  },
  {
   "cell_type": "code",
   "execution_count": null,
   "metadata": {},
   "outputs": [],
   "source": []
  },
  {
   "cell_type": "code",
   "execution_count": 28,
   "metadata": {},
   "outputs": [],
   "source": [
    "def encoder(input_img):\n",
    "    conv1 = Conv2D(32, (3, 3), activation='relu')(input_img)\n",
    "    conv1 = BatchNormalization()(conv1)\n",
    "    conv2 = Conv2D(64, (3, 3), activation='relu')(conv2)\n",
    "    conv2 = BatchNormalization()(conv2)\n",
    "    pool2 = MaxPooling2D(pool_size=(2, 2))(conv2)\n",
    "    conv3 = Conv2D(256, (3, 3), activation='relu')(conv3)\n",
    "    conv3 = BatchNormalization()(conv3)\n",
    "    return conv4"
   ]
  },
  {
   "cell_type": "code",
   "execution_count": 29,
   "metadata": {},
   "outputs": [],
   "source": [
    "def decoder(conv3):  \n",
    "    conv4 = Conv2D(128, (3, 3), activation='relu', padding='same')(conv4) #7 x 7 x 128\n",
    "    conv4 = BatchNormalization()(conv4)\n",
    "    up1 = UpSampling2D((2,2))(conv4) #14 x 14 x 64\n",
    "    conv7 = Conv2D(32, (3, 3), activation='relu', padding='same')(up1) # 14 x 14 x 32\n",
    "    conv7 = BatchNormalization()(conv7)\n",
    "    conv7 = Conv2D(32, (3, 3), activation='relu', padding='same')(conv7)\n",
    "    conv7 = BatchNormalization()(conv7)\n",
    "    up2 = UpSampling2D((2,2))(conv7) # 28 x 28 x 32\n",
    "    decoded = Conv2D(1, (3, 3), activation='sigmoid', padding='same')(up2)\n",
    "    return decoded"
   ]
  },
  {
   "cell_type": "code",
   "execution_count": 30,
   "metadata": {},
   "outputs": [],
   "source": [
    "from tensorflow.keras.models import Model\n"
   ]
  },
  {
   "cell_type": "code",
   "execution_count": 31,
   "metadata": {},
   "outputs": [
    {
     "ename": "NameError",
     "evalue": "name 'input_img' is not defined",
     "output_type": "error",
     "traceback": [
      "\u001b[1;31m---------------------------------------------------------------------------\u001b[0m",
      "\u001b[1;31mNameError\u001b[0m                                 Traceback (most recent call last)",
      "\u001b[1;32m<ipython-input-31-9bf39c56cea3>\u001b[0m in \u001b[0;36m<module>\u001b[1;34m\u001b[0m\n\u001b[1;32m----> 1\u001b[1;33m \u001b[0mautoencoder\u001b[0m \u001b[1;33m=\u001b[0m \u001b[0mModel\u001b[0m\u001b[1;33m(\u001b[0m\u001b[0minput_img\u001b[0m\u001b[1;33m,\u001b[0m \u001b[0mdecoder\u001b[0m\u001b[1;33m(\u001b[0m\u001b[0mencoder\u001b[0m\u001b[1;33m(\u001b[0m\u001b[0minput_img\u001b[0m\u001b[1;33m)\u001b[0m\u001b[1;33m)\u001b[0m\u001b[1;33m)\u001b[0m\u001b[1;33m\u001b[0m\u001b[1;33m\u001b[0m\u001b[0m\n\u001b[0m\u001b[0;32m      2\u001b[0m \u001b[0mautoencoder\u001b[0m\u001b[1;33m.\u001b[0m\u001b[0mcompile\u001b[0m\u001b[1;33m(\u001b[0m\u001b[0mloss\u001b[0m\u001b[1;33m=\u001b[0m\u001b[1;34m'mean_squared_error'\u001b[0m\u001b[1;33m,\u001b[0m \u001b[0moptimizer\u001b[0m \u001b[1;33m=\u001b[0m \u001b[0mRMSprop\u001b[0m\u001b[1;33m(\u001b[0m\u001b[1;33m)\u001b[0m\u001b[1;33m)\u001b[0m\u001b[1;33m\u001b[0m\u001b[1;33m\u001b[0m\u001b[0m\n",
      "\u001b[1;31mNameError\u001b[0m: name 'input_img' is not defined"
     ]
    }
   ],
   "source": [
    "autoencoder = Model(training_images, decoder(encoder()))\n",
    "autoencoder.compile(loss='mean_squared_error', optimizer = RMSprop())"
   ]
  },
  {
   "cell_type": "code",
   "execution_count": null,
   "metadata": {},
   "outputs": [],
   "source": [
    "autoencoder_train = autoencoder.fit(train_X, train_ground, batch_size=batch_size,epochs=epochs,verbose=1,validation_data=(valid_X, valid_ground))\n"
   ]
  },
  {
   "cell_type": "code",
   "execution_count": null,
   "metadata": {},
   "outputs": [],
   "source": []
  }
 ],
 "metadata": {
  "kernelspec": {
   "display_name": "Python 3",
   "language": "python",
   "name": "python3"
  },
  "language_info": {
   "codemirror_mode": {
    "name": "ipython",
    "version": 3
   },
   "file_extension": ".py",
   "mimetype": "text/x-python",
   "name": "python",
   "nbconvert_exporter": "python",
   "pygments_lexer": "ipython3",
   "version": "3.7.9"
  }
 },
 "nbformat": 4,
 "nbformat_minor": 4
}
