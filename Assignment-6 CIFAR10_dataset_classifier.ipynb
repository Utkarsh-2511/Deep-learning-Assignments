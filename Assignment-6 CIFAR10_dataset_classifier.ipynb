{
  "nbformat": 4,
  "nbformat_minor": 0,
  "metadata": {
    "colab": {
      "name": "CIFAR10 dataset classifier.ipynb",
      "provenance": [],
      "authorship_tag": "ABX9TyNsP53l2CJQxPdYAwJDuMXj",
      "include_colab_link": true
    },
    "kernelspec": {
      "name": "python3",
      "display_name": "Python 3"
    }
  },
  "cells": [
    {
      "cell_type": "markdown",
      "metadata": {
        "id": "view-in-github",
        "colab_type": "text"
      },
      "source": [
        "<a href=\"https://colab.research.google.com/github/Utkarsh-2511/Deep-learning-Assignments/blob/main/CIFAR10_dataset_classifier.ipynb\" target=\"_parent\"><img src=\"https://colab.research.google.com/assets/colab-badge.svg\" alt=\"Open In Colab\"/></a>"
      ]
    },
    {
      "cell_type": "code",
      "metadata": {
        "colab": {
          "base_uri": "https://localhost:8080/"
        },
        "id": "7QbC0YsCKKgV",
        "outputId": "037cbf4c-84ac-4917-8d7d-dc5a3765f756"
      },
      "source": [
        "import tensorflow as tf\r\n",
        "import keras\r\n",
        "from keras import datasets\r\n",
        "import numpy as np\r\n",
        "from keras.layers import Conv2D\r\n",
        "\r\n",
        "\r\n",
        "\r\n",
        "(training_images, training_labels), (test_images, test_labels) = tf.keras.datasets.cifar10.load_data()\r\n",
        "training_images=training_images / 255.0\r\n",
        "test_images=test_images/255.0\r\n",
        "model = tf.keras.models.Sequential([\r\n",
        "  tf.keras.layers.Conv2D(64, (3,3), activation='relu', input_shape=(32, 32, 3)),\r\n",
        "  tf.keras.layers.MaxPooling2D(2, 2),\r\n",
        "  tf.keras.layers.Conv2D(64, (3,3), activation='relu'),\r\n",
        "  tf.keras.layers.MaxPooling2D(2,2),\r\n",
        "  tf.keras.layers.Flatten(),\r\n",
        "  tf.keras.layers.Dense(128, activation='relu'),\r\n",
        "  tf.keras.layers.Dense(10, activation='softmax')\r\n",
        "])\r\n",
        "model.compile(optimizer='adam', loss='sparse_categorical_crossentropy', metrics=['accuracy'])\r\n",
        "model.summary()\r\n",
        "model.fit(training_images, training_labels, epochs=5)\r\n",
        "test_loss = model.evaluate(test_images, test_labels)"
      ],
      "execution_count": 6,
      "outputs": [
        {
          "output_type": "stream",
          "text": [
            "Model: \"sequential\"\n",
            "_________________________________________________________________\n",
            "Layer (type)                 Output Shape              Param #   \n",
            "=================================================================\n",
            "conv2d (Conv2D)              (None, 30, 30, 64)        1792      \n",
            "_________________________________________________________________\n",
            "max_pooling2d (MaxPooling2D) (None, 15, 15, 64)        0         \n",
            "_________________________________________________________________\n",
            "conv2d_1 (Conv2D)            (None, 13, 13, 64)        36928     \n",
            "_________________________________________________________________\n",
            "max_pooling2d_1 (MaxPooling2 (None, 6, 6, 64)          0         \n",
            "_________________________________________________________________\n",
            "flatten (Flatten)            (None, 2304)              0         \n",
            "_________________________________________________________________\n",
            "dense (Dense)                (None, 128)               295040    \n",
            "_________________________________________________________________\n",
            "dense_1 (Dense)              (None, 10)                1290      \n",
            "=================================================================\n",
            "Total params: 335,050\n",
            "Trainable params: 335,050\n",
            "Non-trainable params: 0\n",
            "_________________________________________________________________\n",
            "Epoch 1/5\n",
            "1563/1563 [==============================] - 104s 66ms/step - loss: 1.6983 - accuracy: 0.3820\n",
            "Epoch 2/5\n",
            "1563/1563 [==============================] - 104s 67ms/step - loss: 1.1629 - accuracy: 0.5879\n",
            "Epoch 3/5\n",
            "1563/1563 [==============================] - 102s 65ms/step - loss: 0.9906 - accuracy: 0.6546\n",
            "Epoch 4/5\n",
            "1563/1563 [==============================] - 102s 65ms/step - loss: 0.8959 - accuracy: 0.6872\n",
            "Epoch 5/5\n",
            "1563/1563 [==============================] - 103s 66ms/step - loss: 0.8209 - accuracy: 0.7134\n",
            "313/313 [==============================] - 6s 18ms/step - loss: 0.9160 - accuracy: 0.6799\n"
          ],
          "name": "stdout"
        }
      ]
    },
    {
      "cell_type": "code",
      "metadata": {
        "id": "D_LjUib_Kmt4"
      },
      "source": [
        ""
      ],
      "execution_count": null,
      "outputs": []
    }
  ]
}
