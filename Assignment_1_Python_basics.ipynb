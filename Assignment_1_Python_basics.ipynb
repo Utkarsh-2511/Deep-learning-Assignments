{
  "nbformat": 4,
  "nbformat_minor": 0,
  "metadata": {
    "colab": {
      "name": "Assignment 1- Python basics.ipynb",
      "provenance": []
    },
    "kernelspec": {
      "name": "python3",
      "display_name": "Python 3"
    },
    "language_info": {
      "name": "python"
    }
  },
  "cells": [
    {
      "cell_type": "code",
      "metadata": {
        "colab": {
          "base_uri": "https://localhost:8080/"
        },
        "id": "ScaKkzKyD0Kc",
        "outputId": "b93437a6-0165-46b2-ace7-7fd04608a543"
      },
      "source": [
        "# Variable Assignment\n",
        "a = 4\n",
        "# Printing Variable\n",
        "print(a)"
      ],
      "execution_count": 4,
      "outputs": [
        {
          "output_type": "stream",
          "text": [
            "4\n"
          ],
          "name": "stdout"
        }
      ]
    },
    {
      "cell_type": "code",
      "metadata": {
        "colab": {
          "base_uri": "https://localhost:8080/"
        },
        "id": "Hu6HCIqMD1HL",
        "outputId": "016cdf17-b586-4123-ad04-996931ad4ef4"
      },
      "source": [
        "type(a)"
      ],
      "execution_count": 5,
      "outputs": [
        {
          "output_type": "execute_result",
          "data": {
            "text/plain": [
              "int"
            ]
          },
          "metadata": {
            "tags": []
          },
          "execution_count": 5
        }
      ]
    },
    {
      "cell_type": "code",
      "metadata": {
        "colab": {
          "base_uri": "https://localhost:8080/"
        },
        "id": "mRaYziP7D6yn",
        "outputId": "7ac8a2b7-0fa6-4108-ffcc-a2edf62a8c13"
      },
      "source": [
        "print(\"Addition: a+5 =\", a+5)\n",
        "print(\"Subraction: a-5 =\", a-5)\n",
        "print(\"Division: A/5 =\", a/5)\n",
        "print(\"Floor Division: A//5 =\", a//5)\n",
        "print(\"Multiplication: A*5 =\", a*5)\n",
        "print(\"Exponentiation: a**5 =\", a**5)\n",
        "print(\"Modulus: a%2 =\", a%2)\n"
      ],
      "execution_count": 6,
      "outputs": [
        {
          "output_type": "stream",
          "text": [
            "Addition: a+5 = 9\n",
            "Subraction: a-5 = -1\n",
            "Division: A/5 = 0.8\n",
            "Floor Division: A//5 = 0\n",
            "Multiplication: A*5 = 20\n",
            "Exponentiation: a**5 = 1024\n",
            "Modulus: a%2 = 0\n"
          ],
          "name": "stdout"
        }
      ]
    },
    {
      "cell_type": "code",
      "metadata": {
        "colab": {
          "base_uri": "https://localhost:8080/"
        },
        "id": "kfx7gfdyD-0Y",
        "outputId": "5a2e3cf9-6cef-40ba-923c-8905f6417757"
      },
      "source": [
        "print(\"True and False = \", True and False)\n",
        "print(\"True or False = \", True or False)\n",
        "print(\"not False = \", not False)"
      ],
      "execution_count": 7,
      "outputs": [
        {
          "output_type": "stream",
          "text": [
            "True and False =  False\n",
            "True or False =  True\n",
            "not False =  True\n"
          ],
          "name": "stdout"
        }
      ]
    },
    {
      "cell_type": "code",
      "metadata": {
        "colab": {
          "base_uri": "https://localhost:8080/"
        },
        "id": "tFOq_VbdECPu",
        "outputId": "81238579-9f25-45a6-d0f1-18829df134d8"
      },
      "source": [
        "print(\"Greater than: a >5 =\", a>5)\n",
        "print(\"Less Than: a<5 =\", a<5)\n",
        "print(\"Equal to: a==5 =\", a==5)"
      ],
      "execution_count": 8,
      "outputs": [
        {
          "output_type": "stream",
          "text": [
            "Greater than: a >5 = False\n",
            "Less Than: a<5 = True\n",
            "Equal to: a==5 = False\n"
          ],
          "name": "stdout"
        }
      ]
    },
    {
      "cell_type": "code",
      "metadata": {
        "colab": {
          "base_uri": "https://localhost:8080/"
        },
        "id": "30gSzR7lEIG4",
        "outputId": "fa428425-f61b-47e2-99f0-a191fa776ada"
      },
      "source": [
        "print(a/3)\n",
        "type(a/3)"
      ],
      "execution_count": 9,
      "outputs": [
        {
          "output_type": "stream",
          "text": [
            "1.3333333333333333\n"
          ],
          "name": "stdout"
        },
        {
          "output_type": "execute_result",
          "data": {
            "text/plain": [
              "float"
            ]
          },
          "metadata": {
            "tags": []
          },
          "execution_count": 9
        }
      ]
    },
    {
      "cell_type": "code",
      "metadata": {
        "colab": {
          "base_uri": "https://localhost:8080/"
        },
        "id": "KhnIk1p-EMYv",
        "outputId": "24f8e133-519a-43d3-a297-802d6b60cbbd"
      },
      "source": [
        "1+0j\n"
      ],
      "execution_count": 10,
      "outputs": [
        {
          "output_type": "execute_result",
          "data": {
            "text/plain": [
              "(1+0j)"
            ]
          },
          "metadata": {
            "tags": []
          },
          "execution_count": 10
        }
      ]
    },
    {
      "cell_type": "code",
      "metadata": {
        "id": "mW7iatoKEP4A"
      },
      "source": [
        "s1 = \"Hello\"\n",
        "s2 = \"World\""
      ],
      "execution_count": 11,
      "outputs": []
    },
    {
      "cell_type": "code",
      "metadata": {
        "colab": {
          "base_uri": "https://localhost:8080/"
        },
        "id": "K6HSqaMGEUX9",
        "outputId": "ec09a444-7ac1-4023-9557-ecafb2de3f6d"
      },
      "source": [
        "# Multiple Lines\n",
        "print(\"\"\"\\\n",
        "Hello\n",
        "World\n",
        "\"\"\")\n"
      ],
      "execution_count": 12,
      "outputs": [
        {
          "output_type": "stream",
          "text": [
            "Hello\n",
            "World\n",
            "\n"
          ],
          "name": "stdout"
        }
      ]
    },
    {
      "cell_type": "code",
      "metadata": {
        "colab": {
          "base_uri": "https://localhost:8080/"
        },
        "id": "TqMnjs3zEXNn",
        "outputId": "0e2d9899-c363-418d-e3b9-7826311e983a"
      },
      "source": [
        "# Length\n",
        "s = 'HelloWordl'\n",
        "len(s)"
      ],
      "execution_count": 13,
      "outputs": [
        {
          "output_type": "execute_result",
          "data": {
            "text/plain": [
              "10"
            ]
          },
          "metadata": {
            "tags": []
          },
          "execution_count": 13
        }
      ]
    },
    {
      "cell_type": "code",
      "metadata": {
        "colab": {
          "base_uri": "https://localhost:8080/"
        },
        "id": "26Hg-LiTEcdT",
        "outputId": "4e5a8093-c2e5-4c89-e884-ceefbc39545f"
      },
      "source": [
        "# Indexing\n",
        "print(s[1])\n",
        "print(s[1:5])\n",
        "print(s[2:-1])\n",
        "print(s[2:])\n",
        "print(s[:3])"
      ],
      "execution_count": 14,
      "outputs": [
        {
          "output_type": "stream",
          "text": [
            "e\n",
            "ello\n",
            "lloWord\n",
            "lloWordl\n",
            "Hel\n"
          ],
          "name": "stdout"
        }
      ]
    },
    {
      "cell_type": "code",
      "metadata": {
        "colab": {
          "base_uri": "https://localhost:8080/"
        },
        "id": "qTDctsQoEfc_",
        "outputId": "877ec52a-d515-41dc-fe84-43d8961b2c64"
      },
      "source": [
        "#creation of list\n",
        "list1 = [1,2,3,4]\n",
        "list2 = [4,9,1,2]\n",
        "#concatenation of lists\n",
        "list3 = list1 + list2\n",
        "list3"
      ],
      "execution_count": 15,
      "outputs": [
        {
          "output_type": "execute_result",
          "data": {
            "text/plain": [
              "[1, 2, 3, 4, 4, 9, 1, 2]"
            ]
          },
          "metadata": {
            "tags": []
          },
          "execution_count": 15
        }
      ]
    },
    {
      "cell_type": "code",
      "metadata": {
        "colab": {
          "base_uri": "https://localhost:8080/"
        },
        "id": "LP1BeOgmEn2Q",
        "outputId": "e3ea12c4-b8c1-454c-d4f5-59a0d75a40be"
      },
      "source": [
        "print(list1[:])\n",
        "print(list1[1:])"
      ],
      "execution_count": 16,
      "outputs": [
        {
          "output_type": "stream",
          "text": [
            "[1, 2, 3, 4]\n",
            "[2, 3, 4]\n"
          ],
          "name": "stdout"
        }
      ]
    },
    {
      "cell_type": "code",
      "metadata": {
        "colab": {
          "base_uri": "https://localhost:8080/"
        },
        "id": "tROcXgxJEqiD",
        "outputId": "06449c86-f9e8-43b3-f3af-314e12d8b328"
      },
      "source": [
        "list3.append(10)\n",
        "print(list3)"
      ],
      "execution_count": 17,
      "outputs": [
        {
          "output_type": "stream",
          "text": [
            "[1, 2, 3, 4, 4, 9, 1, 2, 10]\n"
          ],
          "name": "stdout"
        }
      ]
    },
    {
      "cell_type": "code",
      "metadata": {
        "colab": {
          "base_uri": "https://localhost:8080/"
        },
        "id": "N9wrVc8ZEtcL",
        "outputId": "1e4d8ef2-2b71-4d95-8a9d-bf83f5d1d17b"
      },
      "source": [
        "list3.remove(10)\n",
        "print(list3)"
      ],
      "execution_count": 18,
      "outputs": [
        {
          "output_type": "stream",
          "text": [
            "[1, 2, 3, 4, 4, 9, 1, 2]\n"
          ],
          "name": "stdout"
        }
      ]
    },
    {
      "cell_type": "code",
      "metadata": {
        "colab": {
          "base_uri": "https://localhost:8080/"
        },
        "id": "B1lcu5G9EwXu",
        "outputId": "86359025-3432-4cd7-905c-6695bc0f2d69"
      },
      "source": [
        "list3.append(\"2\")\n",
        "list3"
      ],
      "execution_count": 19,
      "outputs": [
        {
          "output_type": "execute_result",
          "data": {
            "text/plain": [
              "[1, 2, 3, 4, 4, 9, 1, 2, '2']"
            ]
          },
          "metadata": {
            "tags": []
          },
          "execution_count": 19
        }
      ]
    },
    {
      "cell_type": "code",
      "metadata": {
        "colab": {
          "base_uri": "https://localhost:8080/"
        },
        "id": "QPs9t3N1FaYP",
        "outputId": "da66fbf1-3528-416d-b292-747b2eccf143"
      },
      "source": [
        "print(\"Element removed:\",list3.pop())\n",
        "print(list3)\n"
      ],
      "execution_count": 20,
      "outputs": [
        {
          "output_type": "stream",
          "text": [
            "Element removed: 2\n",
            "[1, 2, 3, 4, 4, 9, 1, 2]\n"
          ],
          "name": "stdout"
        }
      ]
    },
    {
      "cell_type": "code",
      "metadata": {
        "colab": {
          "base_uri": "https://localhost:8080/"
        },
        "id": "mr3Bha8SFdUI",
        "outputId": "2de5625c-ab92-4317-9b29-d12c22016dc9"
      },
      "source": [
        "list3.count(1)"
      ],
      "execution_count": 21,
      "outputs": [
        {
          "output_type": "execute_result",
          "data": {
            "text/plain": [
              "2"
            ]
          },
          "metadata": {
            "tags": []
          },
          "execution_count": 21
        }
      ]
    },
    {
      "cell_type": "code",
      "metadata": {
        "colab": {
          "base_uri": "https://localhost:8080/"
        },
        "id": "I25rdoqoFhwt",
        "outputId": "b2f6eb6e-5df9-40f5-e616-b6bfcaccfe5b"
      },
      "source": [
        "set(list3)"
      ],
      "execution_count": 22,
      "outputs": [
        {
          "output_type": "execute_result",
          "data": {
            "text/plain": [
              "{1, 2, 3, 4, 9}"
            ]
          },
          "metadata": {
            "tags": []
          },
          "execution_count": 22
        }
      ]
    },
    {
      "cell_type": "code",
      "metadata": {
        "colab": {
          "base_uri": "https://localhost:8080/"
        },
        "id": "aoF0Kb_AFkam",
        "outputId": "d4492b19-94fd-4884-818c-abb2065464ac"
      },
      "source": [
        "squares = list(map(lambda x: x**2, range(10)))\n",
        "print(squares)"
      ],
      "execution_count": 23,
      "outputs": [
        {
          "output_type": "stream",
          "text": [
            "[0, 1, 4, 9, 16, 25, 36, 49, 64, 81]\n"
          ],
          "name": "stdout"
        }
      ]
    },
    {
      "cell_type": "code",
      "metadata": {
        "colab": {
          "base_uri": "https://localhost:8080/"
        },
        "id": "KjFVzmiFFw6j",
        "outputId": "983f6389-dae3-490b-8587-1c1d4a2fe6d3"
      },
      "source": [
        "[(x, y) for x in [10,5,1] for y in [1,9,1] if x != y]"
      ],
      "execution_count": 24,
      "outputs": [
        {
          "output_type": "execute_result",
          "data": {
            "text/plain": [
              "[(10, 1), (10, 9), (10, 1), (5, 1), (5, 9), (5, 1), (1, 9)]"
            ]
          },
          "metadata": {
            "tags": []
          },
          "execution_count": 24
        }
      ]
    },
    {
      "cell_type": "code",
      "metadata": {
        "colab": {
          "base_uri": "https://localhost:8080/"
        },
        "id": "gVUakO6YFz_1",
        "outputId": "b0480083-de42-4e7e-a45d-c6eaef0d21fc"
      },
      "source": [
        "matrix = [\n",
        "    [1, 2, 3, 4],\n",
        "    [5, 6, 7, 8],\n",
        "    [9, 10, 11, 12],\n",
        "]\n",
        "print(list(zip(*matrix)))"
      ],
      "execution_count": 25,
      "outputs": [
        {
          "output_type": "stream",
          "text": [
            "[(1, 5, 9), (2, 6, 10), (3, 7, 11), (4, 8, 12)]\n"
          ],
          "name": "stdout"
        }
      ]
    },
    {
      "cell_type": "code",
      "metadata": {
        "colab": {
          "base_uri": "https://localhost:8080/"
        },
        "id": "X9qzyw8HF20G",
        "outputId": "d513c90f-915b-4f06-a5fc-72b61a622af3"
      },
      "source": [
        "tel = {'1': 1, '2': 2}\n",
        "# Looping\n",
        "for k, v in tel.items():\n",
        "     print(k, v)"
      ],
      "execution_count": 26,
      "outputs": [
        {
          "output_type": "stream",
          "text": [
            "1 1\n",
            "2 2\n"
          ],
          "name": "stdout"
        }
      ]
    },
    {
      "cell_type": "code",
      "metadata": {
        "colab": {
          "base_uri": "https://localhost:8080/"
        },
        "id": "-dPyB1VzF5nn",
        "outputId": "fe58e476-6deb-4c41-fae6-ab223b6a3af2"
      },
      "source": [
        "# While Loop\n",
        "# Fibonacci\n",
        "a, b = 0, 1\n",
        "while a < 20:\n",
        "       print(a)\n",
        "       a, b = b, a+b"
      ],
      "execution_count": 27,
      "outputs": [
        {
          "output_type": "stream",
          "text": [
            "0\n",
            "1\n",
            "1\n",
            "2\n",
            "3\n",
            "5\n",
            "8\n",
            "13\n"
          ],
          "name": "stdout"
        }
      ]
    },
    {
      "cell_type": "code",
      "metadata": {
        "colab": {
          "base_uri": "https://localhost:8080/"
        },
        "id": "MJhlV0GXF8ew",
        "outputId": "04180d62-d6d0-44e8-c943-9b8736b3992d"
      },
      "source": [
        "# For Loop\n",
        "for i in range(3):  # range produces an iterable\n",
        "    print(i)"
      ],
      "execution_count": 28,
      "outputs": [
        {
          "output_type": "stream",
          "text": [
            "0\n",
            "1\n",
            "2\n"
          ],
          "name": "stdout"
        }
      ]
    },
    {
      "cell_type": "code",
      "metadata": {
        "colab": {
          "base_uri": "https://localhost:8080/"
        },
        "id": "B3dnewDZF_yE",
        "outputId": "e16df8d6-9c81-4be1-979b-265d867d704e"
      },
      "source": [
        "# for loop for writing tables\n",
        "for i in range(0,11):\n",
        "  print(\"2\",\"*\",i,\"=\",2*i)"
      ],
      "execution_count": 29,
      "outputs": [
        {
          "output_type": "stream",
          "text": [
            "2 * 0 = 0\n",
            "2 * 1 = 2\n",
            "2 * 2 = 4\n",
            "2 * 3 = 6\n",
            "2 * 4 = 8\n",
            "2 * 5 = 10\n",
            "2 * 6 = 12\n",
            "2 * 7 = 14\n",
            "2 * 8 = 16\n",
            "2 * 9 = 18\n",
            "2 * 10 = 20\n"
          ],
          "name": "stdout"
        }
      ]
    },
    {
      "cell_type": "code",
      "metadata": {
        "colab": {
          "base_uri": "https://localhost:8080/"
        },
        "id": "BBxlC2ZRGC10",
        "outputId": "a1177c74-cf6e-4822-e552-cd1b38de869c"
      },
      "source": [
        "# Lambda Functions\n",
        "pairs = [(1, 'one'), (2, 'two'), (3, 'three'), (4, 'four')]\n",
        "pairs.sort(key=lambda pair: pair[1])\n",
        "pairs\n"
      ],
      "execution_count": 30,
      "outputs": [
        {
          "output_type": "execute_result",
          "data": {
            "text/plain": [
              "[(4, 'four'), (1, 'one'), (3, 'three'), (2, 'two')]"
            ]
          },
          "metadata": {
            "tags": []
          },
          "execution_count": 30
        }
      ]
    },
    {
      "cell_type": "code",
      "metadata": {
        "colab": {
          "base_uri": "https://localhost:8080/"
        },
        "id": "Y9q2EJaoGGCs",
        "outputId": "a5cc5891-0a3a-407c-f736-879c96fdd6ed"
      },
      "source": [
        "import numpy as np\n",
        "print(np.__version__)"
      ],
      "execution_count": 31,
      "outputs": [
        {
          "output_type": "stream",
          "text": [
            "1.19.5\n"
          ],
          "name": "stdout"
        }
      ]
    },
    {
      "cell_type": "code",
      "metadata": {
        "id": "mfiMZPItGiKR",
        "colab": {
          "base_uri": "https://localhost:8080/"
        },
        "outputId": "da1fcf65-88ef-4b05-c3d2-b323f0d43c4f"
      },
      "source": [
        "# integer array\n",
        "np.array([1,2,3,4])"
      ],
      "execution_count": 32,
      "outputs": [
        {
          "output_type": "execute_result",
          "data": {
            "text/plain": [
              "array([1, 2, 3, 4])"
            ]
          },
          "metadata": {
            "tags": []
          },
          "execution_count": 32
        }
      ]
    },
    {
      "cell_type": "code",
      "metadata": {
        "id": "fXMxQp30Gkkr",
        "colab": {
          "base_uri": "https://localhost:8080/"
        },
        "outputId": "e833ba97-75e7-49e4-be8f-058b7dfe8861"
      },
      "source": [
        "# nested lists results in multidimensional array\n",
        "np.array([range(i,i+3) for i in [2,4,6]])"
      ],
      "execution_count": 33,
      "outputs": [
        {
          "output_type": "execute_result",
          "data": {
            "text/plain": [
              "array([[2, 3, 4],\n",
              "       [4, 5, 6],\n",
              "       [6, 7, 8]])"
            ]
          },
          "metadata": {
            "tags": []
          },
          "execution_count": 33
        }
      ]
    },
    {
      "cell_type": "code",
      "metadata": {
        "colab": {
          "base_uri": "https://localhost:8080/"
        },
        "id": "oDxl_-4UvKH0",
        "outputId": "8fae8989-de17-4fb0-9b05-f53375a6e63b"
      },
      "source": [
        "# Ranges\n",
        "x = np.arange(0,15, 2)\n",
        "print(\"Range from 0 to less than 15 with step 2:\", x)"
      ],
      "execution_count": 34,
      "outputs": [
        {
          "output_type": "stream",
          "text": [
            "Range from 0 to less than 15 with step 2: [ 0  2  4  6  8 10 12 14]\n"
          ],
          "name": "stdout"
        }
      ]
    },
    {
      "cell_type": "code",
      "metadata": {
        "colab": {
          "base_uri": "https://localhost:8080/",
          "height": 35
        },
        "id": "Lh9QCHfLvOZb",
        "outputId": "178f2b0c-f486-4b0d-88c0-b8dfd7715cde"
      },
      "source": [
        "# Data Type\n",
        "x.dtype.name"
      ],
      "execution_count": 35,
      "outputs": [
        {
          "output_type": "execute_result",
          "data": {
            "application/vnd.google.colaboratory.intrinsic+json": {
              "type": "string"
            },
            "text/plain": [
              "'int64'"
            ]
          },
          "metadata": {
            "tags": []
          },
          "execution_count": 35
        }
      ]
    },
    {
      "cell_type": "code",
      "metadata": {
        "colab": {
          "base_uri": "https://localhost:8080/"
        },
        "id": "arOfi52kvRxE",
        "outputId": "6b3dfc25-f879-4925-a1c5-a40976c002e3"
      },
      "source": [
        "  # Shape\n",
        "print(\"Shape:\", x.shape)\n",
        "print(\"Dimensions:\", x.ndim)\n",
        "print(\"Size:\", x.size)\n",
        "print(\"Item size:\", x.itemsize)"
      ],
      "execution_count": 36,
      "outputs": [
        {
          "output_type": "stream",
          "text": [
            "Shape: (8,)\n",
            "Dimensions: 1\n",
            "Size: 8\n",
            "Item size: 8\n"
          ],
          "name": "stdout"
        }
      ]
    },
    {
      "cell_type": "code",
      "metadata": {
        "colab": {
          "base_uri": "https://localhost:8080/"
        },
        "id": "_rZM4ITkzXku",
        "outputId": "57e70095-0760-4aa3-8ffe-aba754d81fa1"
      },
      "source": [
        "# Reshape \n",
        "y = x.reshape(2,4)\n",
        "print(\"Reshaped as 2x4:\", y)\n",
        "print(\"Shape:\", y.shape)\n",
        "print(\"Dimensions:\", y.ndim)\n",
        "print(\"Size:\", y.size)"
      ],
      "execution_count": 37,
      "outputs": [
        {
          "output_type": "stream",
          "text": [
            "Reshaped as 2x4: [[ 0  2  4  6]\n",
            " [ 8 10 12 14]]\n",
            "Shape: (2, 4)\n",
            "Dimensions: 2\n",
            "Size: 8\n"
          ],
          "name": "stdout"
        }
      ]
    },
    {
      "cell_type": "code",
      "metadata": {
        "colab": {
          "base_uri": "https://localhost:8080/"
        },
        "id": "W-BnaE1VzbT9",
        "outputId": "73944d8f-d4f6-426a-efea-2ec296dc1834"
      },
      "source": [
        "x.dtype"
      ],
      "execution_count": 39,
      "outputs": [
        {
          "output_type": "execute_result",
          "data": {
            "text/plain": [
              "dtype('int64')"
            ]
          },
          "metadata": {
            "tags": []
          },
          "execution_count": 39
        }
      ]
    },
    {
      "cell_type": "code",
      "metadata": {
        "colab": {
          "base_uri": "https://localhost:8080/"
        },
        "id": "8HSzcfWyze2f",
        "outputId": "b118f390-a83f-49f2-a589-795b5e2ad0ca"
      },
      "source": [
        "# array of complex numbers\n",
        "c = np.array( [ [1,2], [3,4] ], dtype=complex )\n",
        "print(c)"
      ],
      "execution_count": 40,
      "outputs": [
        {
          "output_type": "stream",
          "text": [
            "[[1.+0.j 2.+0.j]\n",
            " [3.+0.j 4.+0.j]]\n"
          ],
          "name": "stdout"
        }
      ]
    },
    {
      "cell_type": "code",
      "metadata": {
        "colab": {
          "base_uri": "https://localhost:8080/"
        },
        "id": "-YvQ8GM6zxXz",
        "outputId": "88d0fc29-cda4-4208-8a13-975bd6e269d1"
      },
      "source": [
        "# Zeros\n",
        "np.zeros((3, 4))"
      ],
      "execution_count": 42,
      "outputs": [
        {
          "output_type": "execute_result",
          "data": {
            "text/plain": [
              "array([[0., 0., 0., 0.],\n",
              "       [0., 0., 0., 0.],\n",
              "       [0., 0., 0., 0.]])"
            ]
          },
          "metadata": {
            "tags": []
          },
          "execution_count": 42
        }
      ]
    },
    {
      "cell_type": "code",
      "metadata": {
        "colab": {
          "base_uri": "https://localhost:8080/"
        },
        "id": "mNw509lCz6-h",
        "outputId": "2e161208-03a9-4d00-8e4c-960ebbe3fcd0"
      },
      "source": [
        "np.ones((3,3,3))"
      ],
      "execution_count": 48,
      "outputs": [
        {
          "output_type": "execute_result",
          "data": {
            "text/plain": [
              "array([[[1., 1., 1.],\n",
              "        [1., 1., 1.],\n",
              "        [1., 1., 1.]],\n",
              "\n",
              "       [[1., 1., 1.],\n",
              "        [1., 1., 1.],\n",
              "        [1., 1., 1.]],\n",
              "\n",
              "       [[1., 1., 1.],\n",
              "        [1., 1., 1.],\n",
              "        [1., 1., 1.]]])"
            ]
          },
          "metadata": {
            "tags": []
          },
          "execution_count": 48
        }
      ]
    },
    {
      "cell_type": "code",
      "metadata": {
        "colab": {
          "base_uri": "https://localhost:8080/"
        },
        "id": "05747GEz0D_7",
        "outputId": "50aa7cb0-c2ce-46a2-da1d-179cbfdd74e0"
      },
      "source": [
        "np.empty( (2,3) )"
      ],
      "execution_count": 49,
      "outputs": [
        {
          "output_type": "execute_result",
          "data": {
            "text/plain": [
              "array([[4.65335824e-310, 0.00000000e+000, 0.00000000e+000],\n",
              "       [0.00000000e+000, 0.00000000e+000, 0.00000000e+000]])"
            ]
          },
          "metadata": {
            "tags": []
          },
          "execution_count": 49
        }
      ]
    },
    {
      "cell_type": "code",
      "metadata": {
        "colab": {
          "base_uri": "https://localhost:8080/"
        },
        "id": "n3EOMEUL09rC",
        "outputId": "cc18df26-4857-4322-cfb5-ecd5bd0b0990"
      },
      "source": [
        "x = np.linspace( 0, 2*np.pi, 100 ) \n",
        "print(x)"
      ],
      "execution_count": 50,
      "outputs": [
        {
          "output_type": "stream",
          "text": [
            "[0.         0.06346652 0.12693304 0.19039955 0.25386607 0.31733259\n",
            " 0.38079911 0.44426563 0.50773215 0.57119866 0.63466518 0.6981317\n",
            " 0.76159822 0.82506474 0.88853126 0.95199777 1.01546429 1.07893081\n",
            " 1.14239733 1.20586385 1.26933037 1.33279688 1.3962634  1.45972992\n",
            " 1.52319644 1.58666296 1.65012947 1.71359599 1.77706251 1.84052903\n",
            " 1.90399555 1.96746207 2.03092858 2.0943951  2.15786162 2.22132814\n",
            " 2.28479466 2.34826118 2.41172769 2.47519421 2.53866073 2.60212725\n",
            " 2.66559377 2.72906028 2.7925268  2.85599332 2.91945984 2.98292636\n",
            " 3.04639288 3.10985939 3.17332591 3.23679243 3.30025895 3.36372547\n",
            " 3.42719199 3.4906585  3.55412502 3.61759154 3.68105806 3.74452458\n",
            " 3.8079911  3.87145761 3.93492413 3.99839065 4.06185717 4.12532369\n",
            " 4.1887902  4.25225672 4.31572324 4.37918976 4.44265628 4.5061228\n",
            " 4.56958931 4.63305583 4.69652235 4.75998887 4.82345539 4.88692191\n",
            " 4.95038842 5.01385494 5.07732146 5.14078798 5.2042545  5.26772102\n",
            " 5.33118753 5.39465405 5.45812057 5.52158709 5.58505361 5.64852012\n",
            " 5.71198664 5.77545316 5.83891968 5.9023862  5.96585272 6.02931923\n",
            " 6.09278575 6.15625227 6.21971879 6.28318531]\n"
          ],
          "name": "stdout"
        }
      ]
    },
    {
      "cell_type": "code",
      "metadata": {
        "colab": {
          "base_uri": "https://localhost:8080/"
        },
        "id": "xTjXOWQt1DCi",
        "outputId": "c13f92f5-b76f-4ff4-eee6-573afd5c6563"
      },
      "source": [
        "f = np.sin(x)\n",
        "print(f)"
      ],
      "execution_count": 51,
      "outputs": [
        {
          "output_type": "stream",
          "text": [
            "[ 0.00000000e+00  6.34239197e-02  1.26592454e-01  1.89251244e-01\n",
            "  2.51147987e-01  3.12033446e-01  3.71662456e-01  4.29794912e-01\n",
            "  4.86196736e-01  5.40640817e-01  5.92907929e-01  6.42787610e-01\n",
            "  6.90079011e-01  7.34591709e-01  7.76146464e-01  8.14575952e-01\n",
            "  8.49725430e-01  8.81453363e-01  9.09631995e-01  9.34147860e-01\n",
            "  9.54902241e-01  9.71811568e-01  9.84807753e-01  9.93838464e-01\n",
            "  9.98867339e-01  9.99874128e-01  9.96854776e-01  9.89821442e-01\n",
            "  9.78802446e-01  9.63842159e-01  9.45000819e-01  9.22354294e-01\n",
            "  8.95993774e-01  8.66025404e-01  8.32569855e-01  7.95761841e-01\n",
            "  7.55749574e-01  7.12694171e-01  6.66769001e-01  6.18158986e-01\n",
            "  5.67059864e-01  5.13677392e-01  4.58226522e-01  4.00930535e-01\n",
            "  3.42020143e-01  2.81732557e-01  2.20310533e-01  1.58001396e-01\n",
            "  9.50560433e-02  3.17279335e-02 -3.17279335e-02 -9.50560433e-02\n",
            " -1.58001396e-01 -2.20310533e-01 -2.81732557e-01 -3.42020143e-01\n",
            " -4.00930535e-01 -4.58226522e-01 -5.13677392e-01 -5.67059864e-01\n",
            " -6.18158986e-01 -6.66769001e-01 -7.12694171e-01 -7.55749574e-01\n",
            " -7.95761841e-01 -8.32569855e-01 -8.66025404e-01 -8.95993774e-01\n",
            " -9.22354294e-01 -9.45000819e-01 -9.63842159e-01 -9.78802446e-01\n",
            " -9.89821442e-01 -9.96854776e-01 -9.99874128e-01 -9.98867339e-01\n",
            " -9.93838464e-01 -9.84807753e-01 -9.71811568e-01 -9.54902241e-01\n",
            " -9.34147860e-01 -9.09631995e-01 -8.81453363e-01 -8.49725430e-01\n",
            " -8.14575952e-01 -7.76146464e-01 -7.34591709e-01 -6.90079011e-01\n",
            " -6.42787610e-01 -5.92907929e-01 -5.40640817e-01 -4.86196736e-01\n",
            " -4.29794912e-01 -3.71662456e-01 -3.12033446e-01 -2.51147987e-01\n",
            " -1.89251244e-01 -1.26592454e-01 -6.34239197e-02 -2.44929360e-16]\n"
          ],
          "name": "stdout"
        }
      ]
    },
    {
      "cell_type": "code",
      "metadata": {
        "colab": {
          "base_uri": "https://localhost:8080/"
        },
        "id": "Py9wGeWX1I0Y",
        "outputId": "c86e53bf-9e15-4639-f360-7c0485e4b8d5"
      },
      "source": [
        "a = np.arange(10)**3\n",
        "a"
      ],
      "execution_count": 52,
      "outputs": [
        {
          "output_type": "execute_result",
          "data": {
            "text/plain": [
              "array([  0,   1,   8,  27,  64, 125, 216, 343, 512, 729])"
            ]
          },
          "metadata": {
            "tags": []
          },
          "execution_count": 52
        }
      ]
    },
    {
      "cell_type": "code",
      "metadata": {
        "colab": {
          "base_uri": "https://localhost:8080/"
        },
        "id": "23rpLeP41NnO",
        "outputId": "cf1519e3-fa84-4826-e645-934050dfb6e1"
      },
      "source": [
        "np.random.random((3,3))  "
      ],
      "execution_count": 53,
      "outputs": [
        {
          "output_type": "execute_result",
          "data": {
            "text/plain": [
              "array([[0.58165128, 0.84563675, 0.82466578],\n",
              "       [0.15935956, 0.49646438, 0.91072845],\n",
              "       [0.90927041, 0.02718235, 0.11684112]])"
            ]
          },
          "metadata": {
            "tags": []
          },
          "execution_count": 53
        }
      ]
    },
    {
      "cell_type": "code",
      "metadata": {
        "colab": {
          "base_uri": "https://localhost:8080/"
        },
        "id": "YjehxWkl4mFr",
        "outputId": "b3dacffb-1729-411f-ce9d-9f73762fca67"
      },
      "source": [
        "np.random.randint(0,10,(4,4))"
      ],
      "execution_count": 54,
      "outputs": [
        {
          "output_type": "execute_result",
          "data": {
            "text/plain": [
              "array([[6, 2, 2, 9],\n",
              "       [7, 8, 3, 2],\n",
              "       [0, 8, 5, 0],\n",
              "       [8, 9, 4, 0]])"
            ]
          },
          "metadata": {
            "tags": []
          },
          "execution_count": 54
        }
      ]
    },
    {
      "cell_type": "code",
      "metadata": {
        "colab": {
          "base_uri": "https://localhost:8080/"
        },
        "id": "oQm4hqkw4qvN",
        "outputId": "fe11e3b9-44b9-4093-a613-19071baaa14c"
      },
      "source": [
        "# accessing subarrays\n",
        "x = np.arange(10)\n",
        "print(x[:])\n",
        "print(x[1:3])\n",
        "print(x[1:])\n",
        "print(x[:2])"
      ],
      "execution_count": 55,
      "outputs": [
        {
          "output_type": "stream",
          "text": [
            "[0 1 2 3 4 5 6 7 8 9]\n",
            "[1 2]\n",
            "[1 2 3 4 5 6 7 8 9]\n",
            "[0 1]\n"
          ],
          "name": "stdout"
        }
      ]
    },
    {
      "cell_type": "code",
      "metadata": {
        "colab": {
          "base_uri": "https://localhost:8080/"
        },
        "id": "SV7M0Ppt4t18",
        "outputId": "10b9c60a-fa4d-49a1-bbc9-45767cfa051f"
      },
      "source": [
        "# reshaping of array\n",
        "a = np.arange(1,10)\n",
        "a\n"
      ],
      "execution_count": 56,
      "outputs": [
        {
          "output_type": "execute_result",
          "data": {
            "text/plain": [
              "array([1, 2, 3, 4, 5, 6, 7, 8, 9])"
            ]
          },
          "metadata": {
            "tags": []
          },
          "execution_count": 56
        }
      ]
    },
    {
      "cell_type": "code",
      "metadata": {
        "colab": {
          "base_uri": "https://localhost:8080/"
        },
        "id": "E74YFIZC4yi9",
        "outputId": "271b6e59-2b5b-4a65-ab31-c644f7db5483"
      },
      "source": [
        "a.reshape((3,3))"
      ],
      "execution_count": 57,
      "outputs": [
        {
          "output_type": "execute_result",
          "data": {
            "text/plain": [
              "array([[1, 2, 3],\n",
              "       [4, 5, 6],\n",
              "       [7, 8, 9]])"
            ]
          },
          "metadata": {
            "tags": []
          },
          "execution_count": 57
        }
      ]
    },
    {
      "cell_type": "code",
      "metadata": {
        "colab": {
          "base_uri": "https://localhost:8080/"
        },
        "id": "TIz8eVLt42GI",
        "outputId": "1dc0fc2d-5d20-4352-a8c2-42283b31a575"
      },
      "source": [
        "# concatenation of arrays\n",
        "w =np.array([1,2,3])\n",
        "e = np.array([4,5,6])\n",
        "f = np.array([7,8,9])\n",
        "np.concatenate([w,e,f])"
      ],
      "execution_count": 58,
      "outputs": [
        {
          "output_type": "execute_result",
          "data": {
            "text/plain": [
              "array([1, 2, 3, 4, 5, 6, 7, 8, 9])"
            ]
          },
          "metadata": {
            "tags": []
          },
          "execution_count": 58
        }
      ]
    },
    {
      "cell_type": "code",
      "metadata": {
        "colab": {
          "base_uri": "https://localhost:8080/"
        },
        "id": "MCbkewWy44tn",
        "outputId": "2df5ebd6-a814-40be-cae9-95ace9f7fed8"
      },
      "source": [
        "import pandas as pd\n",
        "print(pd.__version__)"
      ],
      "execution_count": 59,
      "outputs": [
        {
          "output_type": "stream",
          "text": [
            "1.1.5\n"
          ],
          "name": "stdout"
        }
      ]
    },
    {
      "cell_type": "code",
      "metadata": {
        "colab": {
          "base_uri": "https://localhost:8080/"
        },
        "id": "096Y8X1-52cK",
        "outputId": "1ec5447a-61e2-4727-ffc4-0d4028283524"
      },
      "source": [
        "data = pd.Series([1,2,3,4])\n",
        "data"
      ],
      "execution_count": 60,
      "outputs": [
        {
          "output_type": "execute_result",
          "data": {
            "text/plain": [
              "0    1\n",
              "1    2\n",
              "2    3\n",
              "3    4\n",
              "dtype: int64"
            ]
          },
          "metadata": {
            "tags": []
          },
          "execution_count": 60
        }
      ]
    },
    {
      "cell_type": "code",
      "metadata": {
        "colab": {
          "base_uri": "https://localhost:8080/"
        },
        "id": "Ktzg15y96Dq_",
        "outputId": "5cec62c4-54ba-4712-c0f5-c623599664b9"
      },
      "source": [
        " df = pd.DataFrame(\n",
        "     {\n",
        "         \"Name\": [\n",
        "             \"Issac Newton\",\n",
        "             \"Stephen Hawking\",\n",
        "             \"Albert Einstein\",\n",
        "             \"Marie Curie\"\n",
        "         ],\n",
        "         \"Age\": [84,76 , 76, 66],\n",
        "         \"Sex\": [\"male\", \"male\", \"male\", \"female\"],\n",
        "     }\n",
        " )\n",
        " \n",
        "print(df)"
      ],
      "execution_count": 61,
      "outputs": [
        {
          "output_type": "stream",
          "text": [
            "              Name  Age     Sex\n",
            "0     Issac Newton   84    male\n",
            "1  Stephen Hawking   76    male\n",
            "2  Albert Einstein   76    male\n",
            "3      Marie Curie   66  female\n"
          ],
          "name": "stdout"
        }
      ]
    },
    {
      "cell_type": "code",
      "metadata": {
        "colab": {
          "base_uri": "https://localhost:8080/"
        },
        "id": "EKpJGDNz6IMT",
        "outputId": "dbd3a325-b60b-4346-c859-3d84e5fd227f"
      },
      "source": [
        "df[\"Age\"]  # This is a series. A DataFrame is a 2 D series"
      ],
      "execution_count": 62,
      "outputs": [
        {
          "output_type": "execute_result",
          "data": {
            "text/plain": [
              "0    84\n",
              "1    76\n",
              "2    76\n",
              "3    66\n",
              "Name: Age, dtype: int64"
            ]
          },
          "metadata": {
            "tags": []
          },
          "execution_count": 62
        }
      ]
    },
    {
      "cell_type": "code",
      "metadata": {
        "colab": {
          "base_uri": "https://localhost:8080/"
        },
        "id": "NFzTP_pY-QDZ",
        "outputId": "f2e37b68-3b6f-40c7-c6d0-b402f1814b7f"
      },
      "source": [
        " # Max Age in series of age\n",
        "print(df[\"Age\"].max())\n",
        " # Min Age in series of age\n",
        "print(df[\"Age\"].min())\n",
        " # Mean Age in series of age\n",
        "print(df[\"Age\"].mean())\n",
        " # Median Age in series of age\n",
        "print(df[\"Age\"].median())\n",
        " # Mode Age\n",
        "print(df[\"Age\"].mode())"
      ],
      "execution_count": 63,
      "outputs": [
        {
          "output_type": "stream",
          "text": [
            "84\n",
            "66\n",
            "75.5\n",
            "76.0\n",
            "0    76\n",
            "dtype: int64\n"
          ],
          "name": "stdout"
        }
      ]
    },
    {
      "cell_type": "code",
      "metadata": {
        "colab": {
          "base_uri": "https://localhost:8080/",
          "height": 297
        },
        "id": "Jf9mPo8O-UFt",
        "outputId": "0a14aab6-3896-4a05-adc3-ac28da1fc343"
      },
      "source": [
        "# Description of Data\n",
        "df.describe()"
      ],
      "execution_count": 64,
      "outputs": [
        {
          "output_type": "execute_result",
          "data": {
            "text/html": [
              "<div>\n",
              "<style scoped>\n",
              "    .dataframe tbody tr th:only-of-type {\n",
              "        vertical-align: middle;\n",
              "    }\n",
              "\n",
              "    .dataframe tbody tr th {\n",
              "        vertical-align: top;\n",
              "    }\n",
              "\n",
              "    .dataframe thead th {\n",
              "        text-align: right;\n",
              "    }\n",
              "</style>\n",
              "<table border=\"1\" class=\"dataframe\">\n",
              "  <thead>\n",
              "    <tr style=\"text-align: right;\">\n",
              "      <th></th>\n",
              "      <th>Age</th>\n",
              "    </tr>\n",
              "  </thead>\n",
              "  <tbody>\n",
              "    <tr>\n",
              "      <th>count</th>\n",
              "      <td>4.000000</td>\n",
              "    </tr>\n",
              "    <tr>\n",
              "      <th>mean</th>\n",
              "      <td>75.500000</td>\n",
              "    </tr>\n",
              "    <tr>\n",
              "      <th>std</th>\n",
              "      <td>7.371115</td>\n",
              "    </tr>\n",
              "    <tr>\n",
              "      <th>min</th>\n",
              "      <td>66.000000</td>\n",
              "    </tr>\n",
              "    <tr>\n",
              "      <th>25%</th>\n",
              "      <td>73.500000</td>\n",
              "    </tr>\n",
              "    <tr>\n",
              "      <th>50%</th>\n",
              "      <td>76.000000</td>\n",
              "    </tr>\n",
              "    <tr>\n",
              "      <th>75%</th>\n",
              "      <td>78.000000</td>\n",
              "    </tr>\n",
              "    <tr>\n",
              "      <th>max</th>\n",
              "      <td>84.000000</td>\n",
              "    </tr>\n",
              "  </tbody>\n",
              "</table>\n",
              "</div>"
            ],
            "text/plain": [
              "             Age\n",
              "count   4.000000\n",
              "mean   75.500000\n",
              "std     7.371115\n",
              "min    66.000000\n",
              "25%    73.500000\n",
              "50%    76.000000\n",
              "75%    78.000000\n",
              "max    84.000000"
            ]
          },
          "metadata": {
            "tags": []
          },
          "execution_count": 64
        }
      ]
    },
    {
      "cell_type": "code",
      "metadata": {
        "colab": {
          "base_uri": "https://localhost:8080/",
          "height": 408
        },
        "id": "MZb_5k7q-Z2R",
        "outputId": "356c9a1b-1d63-4f5a-8394-9d0b8257c5ce"
      },
      "source": [
        "# Reading CSV/DAT Files (from url or local file) and getting the first 5 elements\n",
        "daily = pd.read_csv('https://www1.nseindia.com/archives/nsccl/volt/CMVOLT_08012021.CSV')\n",
        "daily.head()"
      ],
      "execution_count": 65,
      "outputs": [
        {
          "output_type": "execute_result",
          "data": {
            "text/html": [
              "<div>\n",
              "<style scoped>\n",
              "    .dataframe tbody tr th:only-of-type {\n",
              "        vertical-align: middle;\n",
              "    }\n",
              "\n",
              "    .dataframe tbody tr th {\n",
              "        vertical-align: top;\n",
              "    }\n",
              "\n",
              "    .dataframe thead th {\n",
              "        text-align: right;\n",
              "    }\n",
              "</style>\n",
              "<table border=\"1\" class=\"dataframe\">\n",
              "  <thead>\n",
              "    <tr style=\"text-align: right;\">\n",
              "      <th></th>\n",
              "      <th>Date</th>\n",
              "      <th>Symbol</th>\n",
              "      <th>Underlying Close Price (A)</th>\n",
              "      <th>Underlying Previous Day Close Price (B)</th>\n",
              "      <th>Underlying Log Returns (C) = LN(A/B)</th>\n",
              "      <th>Previous Day Underlying Volatility (D)</th>\n",
              "      <th>Current Day Underlying Daily Volatility (E) = Sqrt(0.995*D*D + 0.005*C*C)</th>\n",
              "      <th>Underlying Annualised Volatility (F) = E*Sqrt(365)</th>\n",
              "    </tr>\n",
              "  </thead>\n",
              "  <tbody>\n",
              "    <tr>\n",
              "      <th>0</th>\n",
              "      <td>08-JAN-2021</td>\n",
              "      <td>20MICRONS</td>\n",
              "      <td>41.65</td>\n",
              "      <td>40.75</td>\n",
              "      <td>0.0218</td>\n",
              "      <td>0.0315</td>\n",
              "      <td>0.0315</td>\n",
              "      <td>0.6018</td>\n",
              "    </tr>\n",
              "    <tr>\n",
              "      <th>1</th>\n",
              "      <td>08-JAN-2021</td>\n",
              "      <td>21STCENMGM</td>\n",
              "      <td>10.73</td>\n",
              "      <td>10.60</td>\n",
              "      <td>0.0122</td>\n",
              "      <td>0.0225</td>\n",
              "      <td>0.0224</td>\n",
              "      <td>0.4280</td>\n",
              "    </tr>\n",
              "    <tr>\n",
              "      <th>2</th>\n",
              "      <td>08-JAN-2021</td>\n",
              "      <td>3IINFOTECH</td>\n",
              "      <td>8.59</td>\n",
              "      <td>8.25</td>\n",
              "      <td>0.0404</td>\n",
              "      <td>0.0403</td>\n",
              "      <td>0.0403</td>\n",
              "      <td>0.7699</td>\n",
              "    </tr>\n",
              "    <tr>\n",
              "      <th>3</th>\n",
              "      <td>08-JAN-2021</td>\n",
              "      <td>3MINDIA</td>\n",
              "      <td>21734.10</td>\n",
              "      <td>21626.90</td>\n",
              "      <td>0.0049</td>\n",
              "      <td>0.0214</td>\n",
              "      <td>0.0214</td>\n",
              "      <td>0.4088</td>\n",
              "    </tr>\n",
              "    <tr>\n",
              "      <th>4</th>\n",
              "      <td>08-JAN-2021</td>\n",
              "      <td>3PLAND</td>\n",
              "      <td>10.77</td>\n",
              "      <td>11.00</td>\n",
              "      <td>-0.0211</td>\n",
              "      <td>0.0676</td>\n",
              "      <td>0.0675</td>\n",
              "      <td>1.2896</td>\n",
              "    </tr>\n",
              "  </tbody>\n",
              "</table>\n",
              "</div>"
            ],
            "text/plain": [
              "          Date  ... Underlying Annualised Volatility (F) = E*Sqrt(365)\n",
              "0  08-JAN-2021  ...                                             0.6018\n",
              "1  08-JAN-2021  ...                                             0.4280\n",
              "2  08-JAN-2021  ...                                             0.7699\n",
              "3  08-JAN-2021  ...                                             0.4088\n",
              "4  08-JAN-2021  ...                                             1.2896\n",
              "\n",
              "[5 rows x 8 columns]"
            ]
          },
          "metadata": {
            "tags": []
          },
          "execution_count": 65
        }
      ]
    },
    {
      "cell_type": "code",
      "metadata": {
        "colab": {
          "base_uri": "https://localhost:8080/",
          "height": 733
        },
        "id": "tIL_ab6R-czN",
        "outputId": "cb290b24-29b7-46f7-d380-28fabef05c47"
      },
      "source": [
        " # First 10\n",
        "daily.head(10)"
      ],
      "execution_count": 66,
      "outputs": [
        {
          "output_type": "execute_result",
          "data": {
            "text/html": [
              "<div>\n",
              "<style scoped>\n",
              "    .dataframe tbody tr th:only-of-type {\n",
              "        vertical-align: middle;\n",
              "    }\n",
              "\n",
              "    .dataframe tbody tr th {\n",
              "        vertical-align: top;\n",
              "    }\n",
              "\n",
              "    .dataframe thead th {\n",
              "        text-align: right;\n",
              "    }\n",
              "</style>\n",
              "<table border=\"1\" class=\"dataframe\">\n",
              "  <thead>\n",
              "    <tr style=\"text-align: right;\">\n",
              "      <th></th>\n",
              "      <th>Date</th>\n",
              "      <th>Symbol</th>\n",
              "      <th>Underlying Close Price (A)</th>\n",
              "      <th>Underlying Previous Day Close Price (B)</th>\n",
              "      <th>Underlying Log Returns (C) = LN(A/B)</th>\n",
              "      <th>Previous Day Underlying Volatility (D)</th>\n",
              "      <th>Current Day Underlying Daily Volatility (E) = Sqrt(0.995*D*D + 0.005*C*C)</th>\n",
              "      <th>Underlying Annualised Volatility (F) = E*Sqrt(365)</th>\n",
              "    </tr>\n",
              "  </thead>\n",
              "  <tbody>\n",
              "    <tr>\n",
              "      <th>0</th>\n",
              "      <td>08-JAN-2021</td>\n",
              "      <td>20MICRONS</td>\n",
              "      <td>41.65</td>\n",
              "      <td>40.75</td>\n",
              "      <td>0.0218</td>\n",
              "      <td>0.0315</td>\n",
              "      <td>0.0315</td>\n",
              "      <td>0.6018</td>\n",
              "    </tr>\n",
              "    <tr>\n",
              "      <th>1</th>\n",
              "      <td>08-JAN-2021</td>\n",
              "      <td>21STCENMGM</td>\n",
              "      <td>10.73</td>\n",
              "      <td>10.60</td>\n",
              "      <td>0.0122</td>\n",
              "      <td>0.0225</td>\n",
              "      <td>0.0224</td>\n",
              "      <td>0.4280</td>\n",
              "    </tr>\n",
              "    <tr>\n",
              "      <th>2</th>\n",
              "      <td>08-JAN-2021</td>\n",
              "      <td>3IINFOTECH</td>\n",
              "      <td>8.59</td>\n",
              "      <td>8.25</td>\n",
              "      <td>0.0404</td>\n",
              "      <td>0.0403</td>\n",
              "      <td>0.0403</td>\n",
              "      <td>0.7699</td>\n",
              "    </tr>\n",
              "    <tr>\n",
              "      <th>3</th>\n",
              "      <td>08-JAN-2021</td>\n",
              "      <td>3MINDIA</td>\n",
              "      <td>21734.10</td>\n",
              "      <td>21626.90</td>\n",
              "      <td>0.0049</td>\n",
              "      <td>0.0214</td>\n",
              "      <td>0.0214</td>\n",
              "      <td>0.4088</td>\n",
              "    </tr>\n",
              "    <tr>\n",
              "      <th>4</th>\n",
              "      <td>08-JAN-2021</td>\n",
              "      <td>3PLAND</td>\n",
              "      <td>10.77</td>\n",
              "      <td>11.00</td>\n",
              "      <td>-0.0211</td>\n",
              "      <td>0.0676</td>\n",
              "      <td>0.0675</td>\n",
              "      <td>1.2896</td>\n",
              "    </tr>\n",
              "    <tr>\n",
              "      <th>5</th>\n",
              "      <td>08-JAN-2021</td>\n",
              "      <td>500009</td>\n",
              "      <td>23.80</td>\n",
              "      <td>24.55</td>\n",
              "      <td>-0.0310</td>\n",
              "      <td>0.0381</td>\n",
              "      <td>0.0381</td>\n",
              "      <td>0.7279</td>\n",
              "    </tr>\n",
              "    <tr>\n",
              "      <th>6</th>\n",
              "      <td>08-JAN-2021</td>\n",
              "      <td>500012</td>\n",
              "      <td>61.65</td>\n",
              "      <td>61.40</td>\n",
              "      <td>0.0041</td>\n",
              "      <td>0.0355</td>\n",
              "      <td>0.0354</td>\n",
              "      <td>0.6763</td>\n",
              "    </tr>\n",
              "    <tr>\n",
              "      <th>7</th>\n",
              "      <td>08-JAN-2021</td>\n",
              "      <td>500014</td>\n",
              "      <td>2.56</td>\n",
              "      <td>2.44</td>\n",
              "      <td>0.0480</td>\n",
              "      <td>0.0482</td>\n",
              "      <td>0.0482</td>\n",
              "      <td>0.9209</td>\n",
              "    </tr>\n",
              "    <tr>\n",
              "      <th>8</th>\n",
              "      <td>08-JAN-2021</td>\n",
              "      <td>500016</td>\n",
              "      <td>7.25</td>\n",
              "      <td>6.91</td>\n",
              "      <td>0.0480</td>\n",
              "      <td>0.0350</td>\n",
              "      <td>0.0351</td>\n",
              "      <td>0.6706</td>\n",
              "    </tr>\n",
              "    <tr>\n",
              "      <th>9</th>\n",
              "      <td>08-JAN-2021</td>\n",
              "      <td>500028</td>\n",
              "      <td>6.48</td>\n",
              "      <td>6.18</td>\n",
              "      <td>0.0474</td>\n",
              "      <td>0.0356</td>\n",
              "      <td>0.0357</td>\n",
              "      <td>0.6820</td>\n",
              "    </tr>\n",
              "  </tbody>\n",
              "</table>\n",
              "</div>"
            ],
            "text/plain": [
              "          Date  ... Underlying Annualised Volatility (F) = E*Sqrt(365)\n",
              "0  08-JAN-2021  ...                                             0.6018\n",
              "1  08-JAN-2021  ...                                             0.4280\n",
              "2  08-JAN-2021  ...                                             0.7699\n",
              "3  08-JAN-2021  ...                                             0.4088\n",
              "4  08-JAN-2021  ...                                             1.2896\n",
              "5  08-JAN-2021  ...                                             0.7279\n",
              "6  08-JAN-2021  ...                                             0.6763\n",
              "7  08-JAN-2021  ...                                             0.9209\n",
              "8  08-JAN-2021  ...                                             0.6706\n",
              "9  08-JAN-2021  ...                                             0.6820\n",
              "\n",
              "[10 rows x 8 columns]"
            ]
          },
          "metadata": {
            "tags": []
          },
          "execution_count": 66
        }
      ]
    },
    {
      "cell_type": "code",
      "metadata": {
        "id": "HtdtQeOHACPR"
      },
      "source": [
        "# Writing CSV File\n",
        "daily.to_csv('./daily.csv')"
      ],
      "execution_count": 67,
      "outputs": []
    },
    {
      "cell_type": "code",
      "metadata": {
        "colab": {
          "base_uri": "https://localhost:8080/"
        },
        "id": "2ulEA8OnAGBO",
        "outputId": "bfdb7992-c412-4133-f701-6c27e4be5154"
      },
      "source": [
        "daily[\"Symbol\"]"
      ],
      "execution_count": 68,
      "outputs": [
        {
          "output_type": "execute_result",
          "data": {
            "text/plain": [
              "0        20MICRONS\n",
              "1       21STCENMGM\n",
              "2       3IINFOTECH\n",
              "3          3MINDIA\n",
              "4           3PLAND\n",
              "           ...    \n",
              "4102      SUNAYANA\n",
              "4103         SWATI\n",
              "4104    TECHAINPOW\n",
              "4105          TLFL\n",
              "4106    TRANSGLOBE\n",
              "Name: Symbol, Length: 4107, dtype: object"
            ]
          },
          "metadata": {
            "tags": []
          },
          "execution_count": 68
        }
      ]
    },
    {
      "cell_type": "code",
      "metadata": {
        "colab": {
          "base_uri": "https://localhost:8080/"
        },
        "id": "OcL9UYv0ALVV",
        "outputId": "2c4e8300-2ee2-4b0d-8c7f-0e350759eb5a"
      },
      "source": [
        "daily.shape"
      ],
      "execution_count": 69,
      "outputs": [
        {
          "output_type": "execute_result",
          "data": {
            "text/plain": [
              "(4107, 8)"
            ]
          },
          "metadata": {
            "tags": []
          },
          "execution_count": 69
        }
      ]
    },
    {
      "cell_type": "code",
      "metadata": {
        "colab": {
          "base_uri": "https://localhost:8080/",
          "height": 148
        },
        "id": "DkgD-a2gAQ0i",
        "outputId": "5073ab05-1cb2-4188-cf2a-ec05e10bd720"
      },
      "source": [
        "# Filtering by Masking\n",
        "daily[daily[\"Symbol\"] == \"RELIANCE\"]"
      ],
      "execution_count": 70,
      "outputs": [
        {
          "output_type": "execute_result",
          "data": {
            "text/html": [
              "<div>\n",
              "<style scoped>\n",
              "    .dataframe tbody tr th:only-of-type {\n",
              "        vertical-align: middle;\n",
              "    }\n",
              "\n",
              "    .dataframe tbody tr th {\n",
              "        vertical-align: top;\n",
              "    }\n",
              "\n",
              "    .dataframe thead th {\n",
              "        text-align: right;\n",
              "    }\n",
              "</style>\n",
              "<table border=\"1\" class=\"dataframe\">\n",
              "  <thead>\n",
              "    <tr style=\"text-align: right;\">\n",
              "      <th></th>\n",
              "      <th>Date</th>\n",
              "      <th>Symbol</th>\n",
              "      <th>Underlying Close Price (A)</th>\n",
              "      <th>Underlying Previous Day Close Price (B)</th>\n",
              "      <th>Underlying Log Returns (C) = LN(A/B)</th>\n",
              "      <th>Previous Day Underlying Volatility (D)</th>\n",
              "      <th>Current Day Underlying Daily Volatility (E) = Sqrt(0.995*D*D + 0.005*C*C)</th>\n",
              "      <th>Underlying Annualised Volatility (F) = E*Sqrt(365)</th>\n",
              "    </tr>\n",
              "  </thead>\n",
              "  <tbody>\n",
              "    <tr>\n",
              "      <th>3497</th>\n",
              "      <td>08-JAN-2021</td>\n",
              "      <td>RELIANCE</td>\n",
              "      <td>1933.70</td>\n",
              "      <td>1911.15</td>\n",
              "      <td>0.0117</td>\n",
              "      <td>0.0244</td>\n",
              "      <td>0.0243</td>\n",
              "      <td>0.4643</td>\n",
              "    </tr>\n",
              "  </tbody>\n",
              "</table>\n",
              "</div>"
            ],
            "text/plain": [
              "             Date  ... Underlying Annualised Volatility (F) = E*Sqrt(365)\n",
              "3497  08-JAN-2021  ...                                             0.4643\n",
              "\n",
              "[1 rows x 8 columns]"
            ]
          },
          "metadata": {
            "tags": []
          },
          "execution_count": 70
        }
      ]
    },
    {
      "cell_type": "code",
      "metadata": {
        "id": "3ZMkGWyNAUho"
      },
      "source": [
        "# Taking First 100\n",
        "subset=daily[:100]"
      ],
      "execution_count": 71,
      "outputs": []
    },
    {
      "cell_type": "code",
      "metadata": {
        "colab": {
          "base_uri": "https://localhost:8080/",
          "height": 668
        },
        "id": "qQUmN8hxAXeo",
        "outputId": "df99e8aa-5a54-4d28-dacf-19da2d2ed913"
      },
      "source": [
        "# As type converts a series to a particular type\n",
        "subset[subset[\"Underlying Previous Day Close Price (B)\"].astype(np.float64) > 1000]"
      ],
      "execution_count": 72,
      "outputs": [
        {
          "output_type": "execute_result",
          "data": {
            "text/html": [
              "<div>\n",
              "<style scoped>\n",
              "    .dataframe tbody tr th:only-of-type {\n",
              "        vertical-align: middle;\n",
              "    }\n",
              "\n",
              "    .dataframe tbody tr th {\n",
              "        vertical-align: top;\n",
              "    }\n",
              "\n",
              "    .dataframe thead th {\n",
              "        text-align: right;\n",
              "    }\n",
              "</style>\n",
              "<table border=\"1\" class=\"dataframe\">\n",
              "  <thead>\n",
              "    <tr style=\"text-align: right;\">\n",
              "      <th></th>\n",
              "      <th>Date</th>\n",
              "      <th>Symbol</th>\n",
              "      <th>Underlying Close Price (A)</th>\n",
              "      <th>Underlying Previous Day Close Price (B)</th>\n",
              "      <th>Underlying Log Returns (C) = LN(A/B)</th>\n",
              "      <th>Previous Day Underlying Volatility (D)</th>\n",
              "      <th>Current Day Underlying Daily Volatility (E) = Sqrt(0.995*D*D + 0.005*C*C)</th>\n",
              "      <th>Underlying Annualised Volatility (F) = E*Sqrt(365)</th>\n",
              "    </tr>\n",
              "  </thead>\n",
              "  <tbody>\n",
              "    <tr>\n",
              "      <th>3</th>\n",
              "      <td>08-JAN-2021</td>\n",
              "      <td>3MINDIA</td>\n",
              "      <td>21734.10</td>\n",
              "      <td>21626.90</td>\n",
              "      <td>0.0049</td>\n",
              "      <td>0.0214</td>\n",
              "      <td>0.0214</td>\n",
              "      <td>0.4088</td>\n",
              "    </tr>\n",
              "    <tr>\n",
              "      <th>10</th>\n",
              "      <td>08-JAN-2021</td>\n",
              "      <td>500068</td>\n",
              "      <td>4050.00</td>\n",
              "      <td>4019.55</td>\n",
              "      <td>0.0075</td>\n",
              "      <td>0.0261</td>\n",
              "      <td>0.0260</td>\n",
              "      <td>0.4967</td>\n",
              "    </tr>\n",
              "    <tr>\n",
              "      <th>13</th>\n",
              "      <td>08-JAN-2021</td>\n",
              "      <td>500123</td>\n",
              "      <td>3064.80</td>\n",
              "      <td>3108.90</td>\n",
              "      <td>-0.0143</td>\n",
              "      <td>0.0357</td>\n",
              "      <td>0.0356</td>\n",
              "      <td>0.6801</td>\n",
              "    </tr>\n",
              "    <tr>\n",
              "      <th>26</th>\n",
              "      <td>08-JAN-2021</td>\n",
              "      <td>500214</td>\n",
              "      <td>1079.80</td>\n",
              "      <td>1032.60</td>\n",
              "      <td>0.0447</td>\n",
              "      <td>0.0278</td>\n",
              "      <td>0.0280</td>\n",
              "      <td>0.5349</td>\n",
              "    </tr>\n",
              "    <tr>\n",
              "      <th>39</th>\n",
              "      <td>08-JAN-2021</td>\n",
              "      <td>500298</td>\n",
              "      <td>2104.70</td>\n",
              "      <td>2096.30</td>\n",
              "      <td>0.0040</td>\n",
              "      <td>0.0349</td>\n",
              "      <td>0.0348</td>\n",
              "      <td>0.6649</td>\n",
              "    </tr>\n",
              "    <tr>\n",
              "      <th>65</th>\n",
              "      <td>08-JAN-2021</td>\n",
              "      <td>501298</td>\n",
              "      <td>1116.80</td>\n",
              "      <td>1096.50</td>\n",
              "      <td>0.0183</td>\n",
              "      <td>0.0241</td>\n",
              "      <td>0.0241</td>\n",
              "      <td>0.4604</td>\n",
              "    </tr>\n",
              "    <tr>\n",
              "      <th>93</th>\n",
              "      <td>08-JAN-2021</td>\n",
              "      <td>502865</td>\n",
              "      <td>1633.60</td>\n",
              "      <td>1628.65</td>\n",
              "      <td>0.0030</td>\n",
              "      <td>0.0323</td>\n",
              "      <td>0.0322</td>\n",
              "      <td>0.6152</td>\n",
              "    </tr>\n",
              "    <tr>\n",
              "      <th>96</th>\n",
              "      <td>08-JAN-2021</td>\n",
              "      <td>502901</td>\n",
              "      <td>2450.00</td>\n",
              "      <td>2450.00</td>\n",
              "      <td>0.0000</td>\n",
              "      <td>0.0267</td>\n",
              "      <td>0.0267</td>\n",
              "      <td>0.5101</td>\n",
              "    </tr>\n",
              "    <tr>\n",
              "      <th>97</th>\n",
              "      <td>08-JAN-2021</td>\n",
              "      <td>502958</td>\n",
              "      <td>1894.35</td>\n",
              "      <td>1923.60</td>\n",
              "      <td>-0.0153</td>\n",
              "      <td>0.0355</td>\n",
              "      <td>0.0354</td>\n",
              "      <td>0.6763</td>\n",
              "    </tr>\n",
              "  </tbody>\n",
              "</table>\n",
              "</div>"
            ],
            "text/plain": [
              "           Date  ... Underlying Annualised Volatility (F) = E*Sqrt(365)\n",
              "3   08-JAN-2021  ...                                             0.4088\n",
              "10  08-JAN-2021  ...                                             0.4967\n",
              "13  08-JAN-2021  ...                                             0.6801\n",
              "26  08-JAN-2021  ...                                             0.5349\n",
              "39  08-JAN-2021  ...                                             0.6649\n",
              "65  08-JAN-2021  ...                                             0.4604\n",
              "93  08-JAN-2021  ...                                             0.6152\n",
              "96  08-JAN-2021  ...                                             0.5101\n",
              "97  08-JAN-2021  ...                                             0.6763\n",
              "\n",
              "[9 rows x 8 columns]"
            ]
          },
          "metadata": {
            "tags": []
          },
          "execution_count": 72
        }
      ]
    },
    {
      "cell_type": "code",
      "metadata": {
        "colab": {
          "base_uri": "https://localhost:8080/",
          "height": 419
        },
        "id": "Y8pSQnYaAa9e",
        "outputId": "44bca26c-39fc-4048-8091-9d6c72300eea"
      },
      "source": [
        "# Selecting Multiple Columns\n",
        "subset[[\"Symbol\", \"Underlying Previous Day Close Price (B)\"]]"
      ],
      "execution_count": 73,
      "outputs": [
        {
          "output_type": "execute_result",
          "data": {
            "text/html": [
              "<div>\n",
              "<style scoped>\n",
              "    .dataframe tbody tr th:only-of-type {\n",
              "        vertical-align: middle;\n",
              "    }\n",
              "\n",
              "    .dataframe tbody tr th {\n",
              "        vertical-align: top;\n",
              "    }\n",
              "\n",
              "    .dataframe thead th {\n",
              "        text-align: right;\n",
              "    }\n",
              "</style>\n",
              "<table border=\"1\" class=\"dataframe\">\n",
              "  <thead>\n",
              "    <tr style=\"text-align: right;\">\n",
              "      <th></th>\n",
              "      <th>Symbol</th>\n",
              "      <th>Underlying Previous Day Close Price (B)</th>\n",
              "    </tr>\n",
              "  </thead>\n",
              "  <tbody>\n",
              "    <tr>\n",
              "      <th>0</th>\n",
              "      <td>20MICRONS</td>\n",
              "      <td>40.75</td>\n",
              "    </tr>\n",
              "    <tr>\n",
              "      <th>1</th>\n",
              "      <td>21STCENMGM</td>\n",
              "      <td>10.60</td>\n",
              "    </tr>\n",
              "    <tr>\n",
              "      <th>2</th>\n",
              "      <td>3IINFOTECH</td>\n",
              "      <td>8.25</td>\n",
              "    </tr>\n",
              "    <tr>\n",
              "      <th>3</th>\n",
              "      <td>3MINDIA</td>\n",
              "      <td>21626.90</td>\n",
              "    </tr>\n",
              "    <tr>\n",
              "      <th>4</th>\n",
              "      <td>3PLAND</td>\n",
              "      <td>11.00</td>\n",
              "    </tr>\n",
              "    <tr>\n",
              "      <th>...</th>\n",
              "      <td>...</td>\n",
              "      <td>...</td>\n",
              "    </tr>\n",
              "    <tr>\n",
              "      <th>95</th>\n",
              "      <td>502893</td>\n",
              "      <td>11.16</td>\n",
              "    </tr>\n",
              "    <tr>\n",
              "      <th>96</th>\n",
              "      <td>502901</td>\n",
              "      <td>2450.00</td>\n",
              "    </tr>\n",
              "    <tr>\n",
              "      <th>97</th>\n",
              "      <td>502958</td>\n",
              "      <td>1923.60</td>\n",
              "    </tr>\n",
              "    <tr>\n",
              "      <th>98</th>\n",
              "      <td>503015</td>\n",
              "      <td>43.80</td>\n",
              "    </tr>\n",
              "    <tr>\n",
              "      <th>99</th>\n",
              "      <td>503092</td>\n",
              "      <td>8.17</td>\n",
              "    </tr>\n",
              "  </tbody>\n",
              "</table>\n",
              "<p>100 rows × 2 columns</p>\n",
              "</div>"
            ],
            "text/plain": [
              "        Symbol Underlying Previous Day Close Price (B)\n",
              "0    20MICRONS                                   40.75\n",
              "1   21STCENMGM                                   10.60\n",
              "2   3IINFOTECH                                    8.25\n",
              "3      3MINDIA                                21626.90\n",
              "4       3PLAND                                   11.00\n",
              "..         ...                                     ...\n",
              "95      502893                                   11.16\n",
              "96      502901                                 2450.00\n",
              "97      502958                                 1923.60\n",
              "98      503015                                   43.80\n",
              "99      503092                                    8.17\n",
              "\n",
              "[100 rows x 2 columns]"
            ]
          },
          "metadata": {
            "tags": []
          },
          "execution_count": 73
        }
      ]
    },
    {
      "cell_type": "code",
      "metadata": {
        "colab": {
          "base_uri": "https://localhost:8080/",
          "height": 545
        },
        "id": "Vds9YduMAePh",
        "outputId": "b1226940-8796-48f4-cafc-71769ecfd2e4"
      },
      "source": [
        "# Selecting by index\n",
        "daily.iloc[9:25, 2:5]"
      ],
      "execution_count": 74,
      "outputs": [
        {
          "output_type": "execute_result",
          "data": {
            "text/html": [
              "<div>\n",
              "<style scoped>\n",
              "    .dataframe tbody tr th:only-of-type {\n",
              "        vertical-align: middle;\n",
              "    }\n",
              "\n",
              "    .dataframe tbody tr th {\n",
              "        vertical-align: top;\n",
              "    }\n",
              "\n",
              "    .dataframe thead th {\n",
              "        text-align: right;\n",
              "    }\n",
              "</style>\n",
              "<table border=\"1\" class=\"dataframe\">\n",
              "  <thead>\n",
              "    <tr style=\"text-align: right;\">\n",
              "      <th></th>\n",
              "      <th>Underlying Close Price (A)</th>\n",
              "      <th>Underlying Previous Day Close Price (B)</th>\n",
              "      <th>Underlying Log Returns (C) = LN(A/B)</th>\n",
              "    </tr>\n",
              "  </thead>\n",
              "  <tbody>\n",
              "    <tr>\n",
              "      <th>9</th>\n",
              "      <td>6.48</td>\n",
              "      <td>6.18</td>\n",
              "      <td>0.0474</td>\n",
              "    </tr>\n",
              "    <tr>\n",
              "      <th>10</th>\n",
              "      <td>4050.00</td>\n",
              "      <td>4019.55</td>\n",
              "      <td>0.0075</td>\n",
              "    </tr>\n",
              "    <tr>\n",
              "      <th>11</th>\n",
              "      <td>101.00</td>\n",
              "      <td>99.55</td>\n",
              "      <td>0.0145</td>\n",
              "    </tr>\n",
              "    <tr>\n",
              "      <th>12</th>\n",
              "      <td>377.30</td>\n",
              "      <td>379.40</td>\n",
              "      <td>-0.0056</td>\n",
              "    </tr>\n",
              "    <tr>\n",
              "      <th>13</th>\n",
              "      <td>3064.80</td>\n",
              "      <td>3108.90</td>\n",
              "      <td>-0.0143</td>\n",
              "    </tr>\n",
              "    <tr>\n",
              "      <th>14</th>\n",
              "      <td>1.12</td>\n",
              "      <td>1.07</td>\n",
              "      <td>0.0457</td>\n",
              "    </tr>\n",
              "    <tr>\n",
              "      <th>15</th>\n",
              "      <td>20.35</td>\n",
              "      <td>20.50</td>\n",
              "      <td>-0.0073</td>\n",
              "    </tr>\n",
              "    <tr>\n",
              "      <th>16</th>\n",
              "      <td>832.70</td>\n",
              "      <td>831.20</td>\n",
              "      <td>0.0018</td>\n",
              "    </tr>\n",
              "    <tr>\n",
              "      <th>17</th>\n",
              "      <td>59.35</td>\n",
              "      <td>59.60</td>\n",
              "      <td>-0.0042</td>\n",
              "    </tr>\n",
              "    <tr>\n",
              "      <th>18</th>\n",
              "      <td>57.45</td>\n",
              "      <td>57.00</td>\n",
              "      <td>0.0079</td>\n",
              "    </tr>\n",
              "    <tr>\n",
              "      <th>19</th>\n",
              "      <td>264.15</td>\n",
              "      <td>267.40</td>\n",
              "      <td>-0.0122</td>\n",
              "    </tr>\n",
              "    <tr>\n",
              "      <th>20</th>\n",
              "      <td>2.31</td>\n",
              "      <td>2.43</td>\n",
              "      <td>-0.0506</td>\n",
              "    </tr>\n",
              "    <tr>\n",
              "      <th>21</th>\n",
              "      <td>10.02</td>\n",
              "      <td>9.55</td>\n",
              "      <td>0.0480</td>\n",
              "    </tr>\n",
              "    <tr>\n",
              "      <th>22</th>\n",
              "      <td>7.60</td>\n",
              "      <td>8.00</td>\n",
              "      <td>-0.0513</td>\n",
              "    </tr>\n",
              "    <tr>\n",
              "      <th>23</th>\n",
              "      <td>10.61</td>\n",
              "      <td>10.70</td>\n",
              "      <td>-0.0084</td>\n",
              "    </tr>\n",
              "    <tr>\n",
              "      <th>24</th>\n",
              "      <td>24.40</td>\n",
              "      <td>23.25</td>\n",
              "      <td>0.0483</td>\n",
              "    </tr>\n",
              "  </tbody>\n",
              "</table>\n",
              "</div>"
            ],
            "text/plain": [
              "   Underlying Close Price (A)  ... Underlying Log Returns (C) = LN(A/B)\n",
              "9                        6.48  ...                               0.0474\n",
              "10                    4050.00  ...                               0.0075\n",
              "11                     101.00  ...                               0.0145\n",
              "12                     377.30  ...                              -0.0056\n",
              "13                    3064.80  ...                              -0.0143\n",
              "14                       1.12  ...                               0.0457\n",
              "15                      20.35  ...                              -0.0073\n",
              "16                     832.70  ...                               0.0018\n",
              "17                      59.35  ...                              -0.0042\n",
              "18                      57.45  ...                               0.0079\n",
              "19                     264.15  ...                              -0.0122\n",
              "20                       2.31  ...                              -0.0506\n",
              "21                      10.02  ...                               0.0480\n",
              "22                       7.60  ...                              -0.0513\n",
              "23                      10.61  ...                              -0.0084\n",
              "24                      24.40  ...                               0.0483\n",
              "\n",
              "[16 rows x 3 columns]"
            ]
          },
          "metadata": {
            "tags": []
          },
          "execution_count": 74
        }
      ]
    },
    {
      "cell_type": "code",
      "metadata": {
        "colab": {
          "base_uri": "https://localhost:8080/",
          "height": 282
        },
        "id": "yWQNG5nnAhTg",
        "outputId": "85d541cf-5c78-4658-f451-9f56bca56c12"
      },
      "source": [
        "# A simple plot\n",
        "pd.DataFrame({\"x\":[1,2,3], \"y\": [10, 50, 100]}).plot()"
      ],
      "execution_count": 75,
      "outputs": [
        {
          "output_type": "execute_result",
          "data": {
            "text/plain": [
              "<matplotlib.axes._subplots.AxesSubplot at 0x7ff21f2705d0>"
            ]
          },
          "metadata": {
            "tags": []
          },
          "execution_count": 75
        },
        {
          "output_type": "display_data",
          "data": {
            "image/png": "[encoded data removed]",
            "text/plain": [
              "<Figure size 432x288 with 1 Axes>"
            ]
          },
          "metadata": {
            "tags": [],
            "needs_background": "light"
          }
        }
      ]
    },
    {
      "cell_type": "code",
      "metadata": {
        "colab": {
          "base_uri": "https://localhost:8080/",
          "height": 282
        },
        "id": "73OpWCv9AkCz",
        "outputId": "43431640-4b8d-412a-d68e-46daf651ef64"
      },
      "source": [
        "%matplotlib inline \n",
        "# Inline plots\n",
        "import matplotlib.pyplot as plt\n",
        "x=np.linspace(1,100,10)\n",
        "y=np.linspace(1,100,10)**2\n",
        "plt.plot(x,y) \n"
      ],
      "execution_count": 76,
      "outputs": [
        {
          "output_type": "execute_result",
          "data": {
            "text/plain": [
              "[<matplotlib.lines.Line2D at 0x7ff225e2bf50>]"
            ]
          },
          "metadata": {
            "tags": []
          },
          "execution_count": 76
        },
        {
          "output_type": "display_data",
          "data": {
            "image/png": "[encoded data removed]",
            "text/plain": [
              "<Figure size 432x288 with 1 Axes>"
            ]
          },
          "metadata": {
            "tags": [],
            "needs_background": "light"
          }
        }
      ]
    },
    {
      "cell_type": "code",
      "metadata": {
        "colab": {
          "base_uri": "https://localhost:8080/",
          "height": 282
        },
        "id": "QY-Hn6LcAm56",
        "outputId": "1401161b-b227-4443-aff2-9801a8e184bf"
      },
      "source": [
        "# Plotting images\n",
        "image=np.random.uniform(0, 255, size=(10,10)) # cmap can be used to change the color pallete\n",
        "plt.imshow(image)"
      ],
      "execution_count": 77,
      "outputs": [
        {
          "output_type": "execute_result",
          "data": {
            "text/plain": [
              "<matplotlib.image.AxesImage at 0x7ff21ed5b090>"
            ]
          },
          "metadata": {
            "tags": []
          },
          "execution_count": 77
        },
        {
          "output_type": "display_data",
          "data": {
            "image/png": "[encoded data removed]",
            "text/plain": [
              "<Figure size 432x288 with 1 Axes>"
            ]
          },
          "metadata": {
            "tags": [],
            "needs_background": "light"
          }
        }
      ]
    },
    {
      "cell_type": "code",
      "metadata": {
        "colab": {
          "base_uri": "https://localhost:8080/",
          "height": 282
        },
        "id": "WLGLSa4pApim",
        "outputId": "c6152c42-1ed3-4f33-ec46-ab8ac471ae03"
      },
      "source": [
        "plt.scatter(x,y)"
      ],
      "execution_count": 78,
      "outputs": [
        {
          "output_type": "execute_result",
          "data": {
            "text/plain": [
              "<matplotlib.collections.PathCollection at 0x7ff21fcace90>"
            ]
          },
          "metadata": {
            "tags": []
          },
          "execution_count": 78
        },
        {
          "output_type": "display_data",
          "data": {
            "image/png": "[encoded data removed]",
            "text/plain": [
              "<Figure size 432x288 with 1 Axes>"
            ]
          },
          "metadata": {
            "tags": [],
            "needs_background": "light"
          }
        }
      ]
    },
    {
      "cell_type": "code",
      "metadata": {
        "colab": {
          "base_uri": "https://localhost:8080/",
          "height": 350
        },
        "id": "BviWhQBLAr7Y",
        "outputId": "a5f7d150-6846-4fb5-99a0-4e3a726f1ba4"
      },
      "source": [
        "# histogram\n",
        "data = np.random.randn(1000)\n",
        "plt.hist(data)"
      ],
      "execution_count": 79,
      "outputs": [
        {
          "output_type": "execute_result",
          "data": {
            "text/plain": [
              "(array([ 10.,  48., 123., 217., 274., 185.,  97.,  37.,   8.,   1.]),\n",
              " array([-2.93527617, -2.26446518, -1.59365419, -0.9228432 , -0.25203221,\n",
              "         0.41877878,  1.08958976,  1.76040075,  2.43121174,  3.10202273,\n",
              "         3.77283372]),\n",
              " <a list of 10 Patch objects>)"
            ]
          },
          "metadata": {
            "tags": []
          },
          "execution_count": 79
        },
        {
          "output_type": "display_data",
          "data": {
            "image/png": "[encoded data removed]",
            "text/plain": [
              "<Figure size 432x288 with 1 Axes>"
            ]
          },
          "metadata": {
            "tags": [],
            "needs_background": "light"
          }
        }
      ]
    },
    {
      "cell_type": "code",
      "metadata": {
        "id": "3RN16dShAulQ"
      },
      "source": [
        ""
      ],
      "execution_count": null,
      "outputs": []
    }
  ]
}