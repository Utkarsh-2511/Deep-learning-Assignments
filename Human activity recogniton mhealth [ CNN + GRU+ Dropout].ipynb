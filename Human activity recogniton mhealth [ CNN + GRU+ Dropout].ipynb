{
 "cells": [
  {
   "cell_type": "code",
   "execution_count": 1,
   "metadata": {},
   "outputs": [],
   "source": [
    "import sys\n",
    "import os\n",
    "import re\n",
    "import pandas as pd\n",
    "import tensorflow as tf\n",
    "import numpy as np\n",
    "import seaborn as sns\n",
    "import matplotlib.pyplot as plt\n"
   ]
  },
  {
   "cell_type": "code",
   "execution_count": 2,
   "metadata": {},
   "outputs": [],
   "source": [
    "import os\n",
    "import zipfile\n",
    "\n",
    "local_zip = r'C:\\Users\\Utkarsh\\Desktop\\Human activity\\MHEALTHDATASET.zip'\n",
    "\n",
    "zip_ref = zipfile.ZipFile(local_zip, 'r')\n",
    "\n",
    "zip_ref.extractall('/tmp')\n",
    "zip_ref.close()"
   ]
  },
  {
   "cell_type": "code",
   "execution_count": 3,
   "metadata": {},
   "outputs": [
    {
     "name": "stdout",
     "output_type": "stream",
     "text": [
      "mHealth_subject1.log\n",
      "mHealth_subject10.log\n",
      "mHealth_subject2.log\n",
      "mHealth_subject3.log\n",
      "mHealth_subject4.log\n",
      "mHealth_subject5.log\n",
      "mHealth_subject6.log\n",
      "mHealth_subject7.log\n",
      "mHealth_subject8.log\n",
      "mHealth_subject9.log\n"
     ]
    }
   ],
   "source": [
    "for i in os.listdir('/tmp/MHEALTHDATASET'):\n",
    "  if not re.search('README', i):\n",
    "    print(i)"
   ]
  },
  {
   "cell_type": "code",
   "execution_count": 4,
   "metadata": {},
   "outputs": [],
   "source": [
    "mHealth = []\n",
    "all = list()\n",
    "\n",
    "for i in os.listdir('/tmp/MHEALTHDATASET/'):\n",
    "  if not re.search('README', i):\n",
    "    all.append(pd.read_csv('/tmp/MHEALTHDATASET/'+i,\n",
    "                                 header=None, sep='\\t').loc[:, \n",
    "            [5,6,7,8,9,10,14,15,16,17,18,19, 23]].rename(columns={5:\"alX\", 6:\"alY\",\n",
    "            7:\"alZ\", 8:\"glX\", 9:\"glY\", 10:\"glZ\", 14:\"arX\",15:\"arY\", 16:\"arZ\", 17:\"grX\", 18:\"grY\", 19:\"grZ\", 23:\"Output\"}))"
   ]
  },
  {
   "cell_type": "code",
   "execution_count": 5,
   "metadata": {},
   "outputs": [
    {
     "name": "stdout",
     "output_type": "stream",
     "text": [
      "\tThere are 2522 recordings of the Nothing activity.\n",
      "\tThere are 61 recordings of the Standing activity.\n",
      "\tThere are 61 recordings of the Sitting and Relaxing activity.\n",
      "\tThere are 61 recordings of the Lying Down activity.\n",
      "\tThere are 61 recordings of the Walking activity.\n",
      "\tThere are 61 recordings of the Climbing Stairs activity.\n",
      "\tThere are 61 recordings of the Waist bends forward activity.\n",
      "\tThere are 61 recordings of the Frontal Elevation of Arms activity.\n",
      "\tThere are 67 recordings of the Knees Bending (Crouching) activity.\n",
      "\tThere are 61 recordings of the Cycling activity.\n",
      "\tThere are 61 recordings of the Jogging activity.\n",
      "\tThere are 61 recordings of the Running activity.\n",
      "\tThere are 21 recordings of the Jump Front & Back activity.\n",
      "\tThere are 1292 recordings of the Nothing activity.\n",
      "\tThere are 61 recordings of the Standing activity.\n",
      "\tThere are 61 recordings of the Sitting and Relaxing activity.\n",
      "\tThere are 61 recordings of the Lying Down activity.\n",
      "\tThere are 61 recordings of the Walking activity.\n",
      "\tThere are 61 recordings of the Climbing Stairs activity.\n",
      "\tThere are 49 recordings of the Waist bends forward activity.\n",
      "\tThere are 55 recordings of the Frontal Elevation of Arms activity.\n",
      "\tThere are 57 recordings of the Knees Bending (Crouching) activity.\n",
      "\tThere are 61 recordings of the Cycling activity.\n",
      "\tThere are 61 recordings of the Jogging activity.\n",
      "\tThere are 61 recordings of the Running activity.\n",
      "\tThere are 20 recordings of the Jump Front & Back activity.\n",
      "\tThere are 1900 recordings of the Nothing activity.\n",
      "\tThere are 61 recordings of the Standing activity.\n",
      "\tThere are 61 recordings of the Sitting and Relaxing activity.\n",
      "\tThere are 61 recordings of the Lying Down activity.\n",
      "\tThere are 61 recordings of the Walking activity.\n",
      "\tThere are 61 recordings of the Climbing Stairs activity.\n",
      "\tThere are 63 recordings of the Waist bends forward activity.\n",
      "\tThere are 66 recordings of the Frontal Elevation of Arms activity.\n",
      "\tThere are 68 recordings of the Knees Bending (Crouching) activity.\n",
      "\tThere are 61 recordings of the Cycling activity.\n",
      "\tThere are 61 recordings of the Jogging activity.\n",
      "\tThere are 61 recordings of the Running activity.\n",
      "\tThere are 20 recordings of the Jump Front & Back activity.\n",
      "\tThere are 1734 recordings of the Nothing activity.\n",
      "\tThere are 61 recordings of the Standing activity.\n",
      "\tThere are 61 recordings of the Sitting and Relaxing activity.\n",
      "\tThere are 61 recordings of the Lying Down activity.\n",
      "\tThere are 61 recordings of the Walking activity.\n",
      "\tThere are 61 recordings of the Climbing Stairs activity.\n",
      "\tThere are 64 recordings of the Waist bends forward activity.\n",
      "\tThere are 67 recordings of the Frontal Elevation of Arms activity.\n",
      "\tThere are 63 recordings of the Knees Bending (Crouching) activity.\n",
      "\tThere are 61 recordings of the Cycling activity.\n",
      "\tThere are 61 recordings of the Jogging activity.\n",
      "\tThere are 61 recordings of the Running activity.\n",
      "\tThere are 20 recordings of the Jump Front & Back activity.\n",
      "\tThere are 1628 recordings of the Nothing activity.\n",
      "\tThere are 61 recordings of the Standing activity.\n",
      "\tThere are 61 recordings of the Sitting and Relaxing activity.\n",
      "\tThere are 61 recordings of the Lying Down activity.\n",
      "\tThere are 61 recordings of the Walking activity.\n",
      "\tThere are 61 recordings of the Climbing Stairs activity.\n",
      "\tThere are 66 recordings of the Waist bends forward activity.\n",
      "\tThere are 65 recordings of the Frontal Elevation of Arms activity.\n",
      "\tThere are 62 recordings of the Knees Bending (Crouching) activity.\n",
      "\tThere are 61 recordings of the Cycling activity.\n",
      "\tThere are 61 recordings of the Jogging activity.\n",
      "\tThere are 61 recordings of the Running activity.\n",
      "\tThere are 20 recordings of the Jump Front & Back activity.\n",
      "\tThere are 1717 recordings of the Nothing activity.\n",
      "\tThere are 61 recordings of the Standing activity.\n",
      "\tThere are 61 recordings of the Sitting and Relaxing activity.\n",
      "\tThere are 61 recordings of the Lying Down activity.\n",
      "\tThere are 61 recordings of the Walking activity.\n",
      "\tThere are 61 recordings of the Climbing Stairs activity.\n",
      "\tThere are 55 recordings of the Waist bends forward activity.\n",
      "\tThere are 57 recordings of the Frontal Elevation of Arms activity.\n",
      "\tThere are 54 recordings of the Knees Bending (Crouching) activity.\n",
      "\tThere are 61 recordings of the Cycling activity.\n",
      "\tThere are 61 recordings of the Jogging activity.\n",
      "\tThere are 61 recordings of the Running activity.\n",
      "\tThere are 20 recordings of the Jump Front & Back activity.\n",
      "\tThere are 1321 recordings of the Nothing activity.\n",
      "\tThere are 61 recordings of the Standing activity.\n",
      "\tThere are 61 recordings of the Sitting and Relaxing activity.\n",
      "\tThere are 61 recordings of the Lying Down activity.\n",
      "\tThere are 61 recordings of the Walking activity.\n",
      "\tThere are 61 recordings of the Climbing Stairs activity.\n",
      "\tThere are 44 recordings of the Waist bends forward activity.\n",
      "\tThere are 41 recordings of the Frontal Elevation of Arms activity.\n",
      "\tThere are 46 recordings of the Knees Bending (Crouching) activity.\n",
      "\tThere are 61 recordings of the Cycling activity.\n",
      "\tThere are 61 recordings of the Jogging activity.\n",
      "\tThere are 61 recordings of the Running activity.\n",
      "\tThere are 20 recordings of the Jump Front & Back activity.\n",
      "\tThere are 1403 recordings of the Nothing activity.\n",
      "\tThere are 61 recordings of the Standing activity.\n",
      "\tThere are 61 recordings of the Sitting and Relaxing activity.\n",
      "\tThere are 61 recordings of the Lying Down activity.\n",
      "\tThere are 61 recordings of the Walking activity.\n",
      "\tThere are 61 recordings of the Climbing Stairs activity.\n",
      "\tThere are 61 recordings of the Waist bends forward activity.\n",
      "\tThere are 55 recordings of the Frontal Elevation of Arms activity.\n",
      "\tThere are 56 recordings of the Knees Bending (Crouching) activity.\n",
      "\tThere are 61 recordings of the Cycling activity.\n",
      "\tThere are 61 recordings of the Jogging activity.\n",
      "\tThere are 61 recordings of the Running activity.\n",
      "\tThere are 20 recordings of the Jump Front & Back activity.\n",
      "\tThere are 1913 recordings of the Nothing activity.\n",
      "\tThere are 61 recordings of the Standing activity.\n",
      "\tThere are 61 recordings of the Sitting and Relaxing activity.\n",
      "\tThere are 61 recordings of the Lying Down activity.\n",
      "\tThere are 61 recordings of the Walking activity.\n",
      "\tThere are 61 recordings of the Climbing Stairs activity.\n",
      "\tThere are 43 recordings of the Waist bends forward activity.\n",
      "\tThere are 60 recordings of the Frontal Elevation of Arms activity.\n",
      "\tThere are 51 recordings of the Knees Bending (Crouching) activity.\n",
      "\tThere are 61 recordings of the Cycling activity.\n",
      "\tThere are 61 recordings of the Jogging activity.\n",
      "\tThere are 61 recordings of the Running activity.\n",
      "\tThere are 20 recordings of the Jump Front & Back activity.\n",
      "\tThere are 2016 recordings of the Nothing activity.\n",
      "\tThere are 61 recordings of the Standing activity.\n",
      "\tThere are 61 recordings of the Sitting and Relaxing activity.\n",
      "\tThere are 61 recordings of the Lying Down activity.\n",
      "\tThere are 61 recordings of the Walking activity.\n",
      "\tThere are 61 recordings of the Climbing Stairs activity.\n",
      "\tThere are 57 recordings of the Waist bends forward activity.\n",
      "\tThere are 57 recordings of the Frontal Elevation of Arms activity.\n",
      "\tThere are 59 recordings of the Knees Bending (Crouching) activity.\n",
      "\tThere are 61 recordings of the Cycling activity.\n",
      "\tThere are 61 recordings of the Jogging activity.\n",
      "\tThere are 61 recordings of the Running activity.\n",
      "\tThere are 21 recordings of the Jump Front & Back activity.\n"
     ]
    }
   ],
   "source": [
    "SAMPLES_PER_ACTIVITY=50  \n",
    "\n",
    "Activities = [\n",
    "    \"Nothing\",\n",
    "    \"Standing\",\n",
    "    \"Sitting and Relaxing\",\n",
    "    \"Lying Down\",\n",
    "    \"Walking\",\n",
    "    \"Climbing Stairs\",\n",
    "    \"Waist bends forward\",\n",
    "    \"Frontal Elevation of Arms\",\n",
    "    \"Knees Bending (Crouching)\",\n",
    "    \"Cycling\",\n",
    "    \"Jogging\",\n",
    "    \"Running\",\n",
    "    \"Jump Front & Back\"\n",
    "    ]\n",
    "\n",
    "\n",
    "NUM_ACTIVITY=len(Activities)\n",
    "X = []\n",
    "Y = []\n",
    "FEATURES=[\"alX\", \"alY\", \"alZ\", \"glX\", \"glY\", \"glZ\", \"arX\", \"arY\", \"arZ\", \"grX\", \"grY\", \"grZ\"]\n",
    "ONE_HOT_ENCODED_ACTIVITY = np.eye(NUM_ACTIVITY)\n",
    "for i in os.listdir('/tmp/MHEALTHDATASET/'):\n",
    "  if not re.search('README', i):\n",
    "    temp = pd.read_csv('/tmp/MHEALTHDATASET/'+i, header=None, sep='\\t').loc[:, [5,6,7,8,9,10,14,15,16,17,18,19, 23]].rename(columns={5:\"alX\", 6:\"alY\", 7:\"alZ\", 8:\"glX\", 9:\"glY\", 10:\"glZ\", 14:\"arX\",15:\"arY\", 16:\"arZ\", 17:\"grX\", 18:\"grY\", 19:\"grZ\", 23:\"Output\"})\n",
    "    for j in range(NUM_ACTIVITY):\n",
    "        output = ONE_HOT_ENCODED_ACTIVITY[j]\n",
    "        df =np.array(temp[temp[\"Output\"] == j].copy())\n",
    "        num_recordings = int(df.shape[0]/SAMPLES_PER_ACTIVITY)\n",
    "        print(f\"\\tThere are {num_recordings} recordings of the {Activities[j]} activity.\")\n",
    "        for k in range(num_recordings):\n",
    "          tensor = []\n",
    "          for l in range(SAMPLES_PER_ACTIVITY):\n",
    "            index = k * SAMPLES_PER_ACTIVITY + l\n",
    "            tensori = []\n",
    "            for m,feature in enumerate(FEATURES):\n",
    "              tensori.append(df[index,m])\n",
    "              tensor.append(tensori)\n",
    "\n",
    "          X.append(tensor)\n",
    "          Y.append(output)\n",
    "\n",
    "X = np.array(X)\n",
    "Y = np.array(Y)\n"
   ]
  },
  {
   "cell_type": "code",
   "execution_count": 6,
   "metadata": {},
   "outputs": [
    {
     "name": "stdout",
     "output_type": "stream",
     "text": [
      "[[[ 2.1849e+00 -9.6967e+00  6.3077e-01 ... -4.4902e-01 -1.0103e+00\n",
      "    3.4483e-02]\n",
      "  [ 2.1849e+00 -9.6967e+00  6.3077e-01 ... -4.4902e-01 -1.0103e+00\n",
      "    3.4483e-02]\n",
      "  [ 2.1849e+00 -9.6967e+00  6.3077e-01 ... -4.4902e-01 -1.0103e+00\n",
      "    3.4483e-02]\n",
      "  ...\n",
      "  [ 1.7032e+00 -9.5888e+00  5.2718e-01 ... -4.5098e-01 -1.0062e+00\n",
      "    2.1552e-03]\n",
      "  [ 1.7032e+00 -9.5888e+00  5.2718e-01 ... -4.5098e-01 -1.0062e+00\n",
      "    2.1552e-03]\n",
      "  [ 1.7032e+00 -9.5888e+00  5.2718e-01 ... -4.5098e-01 -1.0062e+00\n",
      "    2.1552e-03]]\n",
      "\n",
      " [[ 1.9054e+00 -9.4307e+00  4.9544e-01 ... -4.5098e-01 -1.0062e+00\n",
      "    2.1552e-03]\n",
      "  [ 1.9054e+00 -9.4307e+00  4.9544e-01 ... -4.5098e-01 -1.0062e+00\n",
      "    2.1552e-03]\n",
      "  [ 1.9054e+00 -9.4307e+00  4.9544e-01 ... -4.5098e-01 -1.0062e+00\n",
      "    2.1552e-03]\n",
      "  ...\n",
      "  [ 1.4417e+00 -9.6452e+00 -1.6576e-01 ... -5.0784e-01 -9.9795e-01\n",
      "    1.2931e-02]\n",
      "  [ 1.4417e+00 -9.6452e+00 -1.6576e-01 ... -5.0784e-01 -9.9795e-01\n",
      "    1.2931e-02]\n",
      "  [ 1.4417e+00 -9.6452e+00 -1.6576e-01 ... -5.0784e-01 -9.9795e-01\n",
      "    1.2931e-02]]\n",
      "\n",
      " [[ 1.5463e+00 -9.8027e+00 -6.8420e-02 ... -5.0000e-01 -9.8152e-01\n",
      "    3.0172e-02]\n",
      "  [ 1.5463e+00 -9.8027e+00 -6.8420e-02 ... -5.0000e-01 -9.8152e-01\n",
      "    3.0172e-02]\n",
      "  [ 1.5463e+00 -9.8027e+00 -6.8420e-02 ... -5.0000e-01 -9.8152e-01\n",
      "    3.0172e-02]\n",
      "  ...\n",
      "  [ 1.5663e+00 -9.7431e+00 -5.4827e-02 ... -5.1765e-01 -9.7741e-01\n",
      "    2.5862e-02]\n",
      "  [ 1.5663e+00 -9.7431e+00 -5.4827e-02 ... -5.1765e-01 -9.7741e-01\n",
      "    2.5862e-02]\n",
      "  [ 1.5663e+00 -9.7431e+00 -5.4827e-02 ... -5.1765e-01 -9.7741e-01\n",
      "    2.5862e-02]]\n",
      "\n",
      " ...\n",
      "\n",
      " [[ 1.0892e+00 -1.1156e+00 -1.0566e+01 ... -8.4314e-01 -4.6817e-01\n",
      "   -4.3750e-01]\n",
      "  [ 1.0892e+00 -1.1156e+00 -1.0566e+01 ... -8.4314e-01 -4.6817e-01\n",
      "   -4.3750e-01]\n",
      "  [ 1.0892e+00 -1.1156e+00 -1.0566e+01 ... -8.4314e-01 -4.6817e-01\n",
      "   -4.3750e-01]\n",
      "  ...\n",
      "  [-4.0143e+00  8.1890e+00 -1.7735e+01 ... -9.7059e-01 -4.4559e-01\n",
      "   -1.1207e-01]\n",
      "  [-4.0143e+00  8.1890e+00 -1.7735e+01 ... -9.7059e-01 -4.4559e-01\n",
      "   -1.1207e-01]\n",
      "  [-4.0143e+00  8.1890e+00 -1.7735e+01 ... -9.7059e-01 -4.4559e-01\n",
      "   -1.1207e-01]]\n",
      "\n",
      " [[ 2.8424e+00  4.8692e+00 -1.8030e+01 ... -9.7059e-01 -4.4559e-01\n",
      "   -1.1207e-01]\n",
      "  [ 2.8424e+00  4.8692e+00 -1.8030e+01 ... -9.7059e-01 -4.4559e-01\n",
      "   -1.1207e-01]\n",
      "  [ 2.8424e+00  4.8692e+00 -1.8030e+01 ... -9.7059e-01 -4.4559e-01\n",
      "   -1.1207e-01]\n",
      "  ...\n",
      "  [ 6.6327e+00 -1.9206e+01  1.2102e+00 ... -8.8627e-01 -5.1951e-01\n",
      "   -3.0388e-01]\n",
      "  [ 6.6327e+00 -1.9206e+01  1.2102e+00 ... -8.8627e-01 -5.1951e-01\n",
      "   -3.0388e-01]\n",
      "  [ 6.6327e+00 -1.9206e+01  1.2102e+00 ... -8.8627e-01 -5.1951e-01\n",
      "   -3.0388e-01]]\n",
      "\n",
      " [[ 2.0441e-01 -9.5434e+00 -1.8694e+01 ... -8.8627e-01 -5.1951e-01\n",
      "   -3.0388e-01]\n",
      "  [ 2.0441e-01 -9.5434e+00 -1.8694e+01 ... -8.8627e-01 -5.1951e-01\n",
      "   -3.0388e-01]\n",
      "  [ 2.0441e-01 -9.5434e+00 -1.8694e+01 ... -8.8627e-01 -5.1951e-01\n",
      "   -3.0388e-01]\n",
      "  ...\n",
      "  [ 7.9629e+00 -1.9089e+01  1.0875e+01 ... -9.9804e-01 -2.1150e-01\n",
      "   -2.6293e-01]\n",
      "  [ 7.9629e+00 -1.9089e+01  1.0875e+01 ... -9.9804e-01 -2.1150e-01\n",
      "   -2.6293e-01]\n",
      "  [ 7.9629e+00 -1.9089e+01  1.0875e+01 ... -9.9804e-01 -2.1150e-01\n",
      "   -2.6293e-01]]]\n"
     ]
    }
   ],
   "source": [
    "print(X)"
   ]
  },
  {
   "cell_type": "code",
   "execution_count": 7,
   "metadata": {},
   "outputs": [
    {
     "name": "stderr",
     "output_type": "stream",
     "text": [
      "Using TensorFlow backend.\n"
     ]
    }
   ],
   "source": [
    "\n",
    "from tensorflow.keras import layers, Sequential, Input\n",
    "from keras.layers import Dropout\n",
    "from sklearn.model_selection import train_test_split"
   ]
  },
  {
   "cell_type": "code",
   "execution_count": 8,
   "metadata": {},
   "outputs": [
    {
     "name": "stdout",
     "output_type": "stream",
     "text": [
      "(600, 12, 1)\n"
     ]
    }
   ],
   "source": [
    "\n",
    "\n",
    "X = X.reshape((X.shape[0], X.shape[1], X.shape[2], 1))\n",
    "X_train, X_test, Y_train, Y_test = train_test_split(X,Y)\n",
    "\n",
    "input_shape=X.shape[1:]\n",
    "\n",
    "X.shape\n",
    "print(input_shape)\n"
   ]
  },
  {
   "attachments": {
    "image.png": {
     "image/png": "[encoded data removed]"
    }
   },
   "cell_type": "markdown",
   "metadata": {},
   "source": [
    "![image.png](attachment:image.png)"
   ]
  },
  {
   "cell_type": "code",
   "execution_count": 32,
   "metadata": {},
   "outputs": [],
   "source": [
    "model = Sequential(\n",
    "    [\n",
    "     Input(shape=input_shape),\n",
    "     layers.Conv2D(64, (3)),\n",
    "     layers.Conv2D(64, (3,3)),\n",
    "     layers.Dropout(0.2),\n",
    "     layers.MaxPool2D((2,2)),\n",
    "     layers.BatchNormalization(),  \n",
    "     layers.Reshape((-1, 64)),\n",
    "     layers.GRU(15),\n",
    "\n",
    "     layers.Flatten(),\n",
    "\n",
    "     layers.Dense(128, activation=\"relu\"),\n",
    "     layers.Dense(13, activation=\"softmax\"),\n",
    "\n",
    "    ]\n",
    "\n",
    ")"
   ]
  },
  {
   "cell_type": "code",
   "execution_count": 33,
   "metadata": {},
   "outputs": [
    {
     "name": "stdout",
     "output_type": "stream",
     "text": [
      "Model: \"sequential_8\"\n",
      "_________________________________________________________________\n",
      "Layer (type)                 Output Shape              Param #   \n",
      "=================================================================\n",
      "conv2d_14 (Conv2D)           (None, 598, 10, 64)       640       \n",
      "_________________________________________________________________\n",
      "conv2d_15 (Conv2D)           (None, 596, 8, 64)        36928     \n",
      "_________________________________________________________________\n",
      "dropout_7 (Dropout)          (None, 596, 8, 64)        0         \n",
      "_________________________________________________________________\n",
      "max_pooling2d_8 (MaxPooling2 (None, 298, 4, 64)        0         \n",
      "_________________________________________________________________\n",
      "batch_normalization_8 (Batch (None, 298, 4, 64)        256       \n",
      "_________________________________________________________________\n",
      "reshape_12 (Reshape)         (None, None, 64)          0         \n",
      "_________________________________________________________________\n",
      "gru_13 (GRU)                 (None, 15)                3645      \n",
      "_________________________________________________________________\n",
      "flatten_1 (Flatten)          (None, 15)                0         \n",
      "_________________________________________________________________\n",
      "dense_16 (Dense)             (None, 128)               2048      \n",
      "_________________________________________________________________\n",
      "dense_17 (Dense)             (None, 13)                1677      \n",
      "=================================================================\n",
      "Total params: 45,194\n",
      "Trainable params: 45,066\n",
      "Non-trainable params: 128\n",
      "_________________________________________________________________\n"
     ]
    }
   ],
   "source": [
    "model.summary()"
   ]
  },
  {
   "cell_type": "code",
   "execution_count": 34,
   "metadata": {},
   "outputs": [],
   "source": [
    "model.compile(loss='categorical_crossentropy', optimizer='adam', metrics=['accuracy'])\n"
   ]
  },
  {
   "cell_type": "code",
   "execution_count": 35,
   "metadata": {},
   "outputs": [
    {
     "name": "stdout",
     "output_type": "stream",
     "text": [
      "Train on 18193 samples, validate on 6065 samples\n",
      "Epoch 1/5\n",
      "18193/18193 [==============================] - 1326s 73ms/sample - loss: 1.0309 - accuracy: 0.7259 - val_loss: 0.8742 - val_accuracy: 0.7400\n",
      "Epoch 2/5\n",
      "18193/18193 [==============================] - 1225s 67ms/sample - loss: 0.8348 - accuracy: 0.7387 - val_loss: 0.8032 - val_accuracy: 0.7448\n",
      "Epoch 3/5\n",
      "18193/18193 [==============================] - 1419s 78ms/sample - loss: 0.7646 - accuracy: 0.7412 - val_loss: 0.7618 - val_accuracy: 0.7500\n",
      "Epoch 4/5\n",
      "18193/18193 [==============================] - 1267s 70ms/sample - loss: 0.7271 - accuracy: 0.7420 - val_loss: 0.7449 - val_accuracy: 0.7545\n",
      "Epoch 5/5\n",
      "18193/18193 [==============================] - 1211s 67ms/sample - loss: 0.6976 - accuracy: 0.7458 - val_loss: 0.7872 - val_accuracy: 0.7499\n"
     ]
    }
   ],
   "source": [
    "history = model.fit(x= X_train, y=Y_train, epochs=5, validation_data =(X_test,Y_test))\n"
   ]
  },
  {
   "cell_type": "code",
   "execution_count": 38,
   "metadata": {},
   "outputs": [
    {
     "data": {
      "image/png": "[encoded data removed]",
      "text/plain": [
       "<Figure size 432x288 with 1 Axes>"
      ]
     },
     "metadata": {
      "needs_background": "light"
     },
     "output_type": "display_data"
    },
    {
     "data": {
      "image/png": "[encoded data removed]",
      "text/plain": [
       "<Figure size 432x288 with 1 Axes>"
      ]
     },
     "metadata": {
      "needs_background": "light"
     },
     "output_type": "display_data"
    }
   ],
   "source": [
    "import matplotlib.pyplot as plt\n",
    "acc = history.history['accuracy']\n",
    "val_acc = history.history['val_accuracy']\n",
    "loss = history.history['loss']\n",
    "val_loss = history.history['val_loss']\n",
    "\n",
    "epochs = range(len(acc))\n",
    "\n",
    "plt.plot(epochs, acc, label='Training accuracy')\n",
    "plt.plot(epochs, val_acc, label='Validation accuracy')\n",
    "plt.title('Training and validation accuracy')\n",
    "\n",
    "plt.figure()\n",
    "\n",
    "plt.plot(epochs, loss, label='Training Loss')\n",
    "plt.plot(epochs, val_loss, label='Validation Loss')\n",
    "plt.title('Training and validation loss')\n",
    "plt.legend()\n",
    "\n",
    "plt.show()"
   ]
  },
  {
   "cell_type": "code",
   "execution_count": null,
   "metadata": {},
   "outputs": [],
   "source": []
  }
 ],
 "metadata": {
  "kernelspec": {
   "display_name": "Python 3",
   "language": "python",
   "name": "python3"
  },
  "language_info": {
   "codemirror_mode": {
    "name": "ipython",
    "version": 3
   },
   "file_extension": ".py",
   "mimetype": "text/x-python",
   "name": "python",
   "nbconvert_exporter": "python",
   "pygments_lexer": "ipython3",
   "version": "3.7.9"
  }
 },
 "nbformat": 4,
 "nbformat_minor": 4
}
